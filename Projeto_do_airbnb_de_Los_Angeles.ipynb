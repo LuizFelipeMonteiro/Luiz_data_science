{
  "nbformat": 4,
  "nbformat_minor": 0,
  "metadata": {
    "colab": {
      "provenance": [],
      "include_colab_link": true
    },
    "kernelspec": {
      "name": "python3",
      "display_name": "Python 3"
    }
  },
  "cells": [
    {
      "cell_type": "markdown",
      "metadata": {
        "id": "view-in-github",
        "colab_type": "text"
      },
      "source": [
        "<a href=\"https://colab.research.google.com/github/LuizFelipeMonteiro/Luiz_data_science/blob/main/Projeto_do_airbnb_de_Los_Angeles.ipynb\" target=\"_parent\"><img src=\"https://colab.research.google.com/assets/colab-badge.svg\" alt=\"Open In Colab\"/></a>"
      ]
    },
    {
      "cell_type": "markdown",
      "metadata": {
        "id": "kLI0gJtzDGuQ"
      },
      "source": [
        "<img alt=\"Colaboratory logo\" width=\"15%\" src=\"https://raw.githubusercontent.com/carlosfab/escola-data-science/master/img/novo_logo_bg_claro.png\">\n",
        "\n",
        "#### **Data Science na Prática 3.0**\n",
        "*by [sigmoidal.ai](https://sigmoidal.ai)*\n",
        "\n",
        "---\n",
        "\n",
        "# Análise dos Dados do Airbnb - *Sua Cidade*\n",
        "\n",
        "O [Airbnb](https://www.airbnb.com.br/) já é considerado como sendo a **maior empresa hoteleira da atualidade**. Ah, o detalhe é que ele **não possui nenhum hotel**!\n",
        "\n",
        "Conectando pessoas que querem viajar (e se hospedar) com anfitriões que querem alugar seus imóveis de maneira prática, o Airbnb fornece uma plataforma inovadora para tornar essa hospedagem alternativa.\n",
        "\n",
        "No final de 2018, a Startup fundada 10 anos atrás, já havia **hospedado mais de 300 milhões** de pessoas ao redor de todo o mundo, desafiando as redes hoteleiras tradicionais.\n",
        "\n",
        "Uma das iniciativas do Airbnb é disponibilizar dados do site, para algumas das principais cidades do mundo. Por meio do portal [Inside Airbnb](http://insideairbnb.com/get-the-data.html), é possível baixar uma grande quantidade de dados para desenvolver projetos e soluções de *Data Science*.\n",
        "\n",
        "<center><img alt=\"Analisando Airbnb\" width=\"10%\" src=\"https://www.area360.com.au/wp-content/uploads/2017/09/airbnb-logo.jpg\"></center>\n",
        "\n",
        "**Neste *notebook*, iremos analisar os dados referentes à cidade Los Angeles, e ver quais insights podem ser extraídos a partir de dados brutos.**"
      ]
    },
    {
      "cell_type": "markdown",
      "metadata": {
        "id": "0zxQHhIUDF_2"
      },
      "source": [
        "## Obtenção dos Dados\n"
      ]
    },
    {
      "cell_type": "code",
      "metadata": {
        "id": "Vhp2wMPgJ6zX"
      },
      "source": [
        "# importar os pacotes necessarios\n",
        "import pandas as pd\n",
        "import matplotlib.pyplot as plt \n",
        "import seaborn as sns\n",
        "\n",
        "%matplotlib inline"
      ],
      "execution_count": null,
      "outputs": []
    },
    {
      "cell_type": "code",
      "metadata": {
        "id": "tUmoAT8DLQ5T"
      },
      "source": [
        " # importar o arquivo listings.csv para um DataFrame\n",
        "df = pd.read_csv(\"http://data.insideairbnb.com/united-states/ca/los-angeles/2022-12-06/visualisations/listings.csv\")"
      ],
      "execution_count": null,
      "outputs": []
    },
    {
      "cell_type": "markdown",
      "metadata": {
        "id": "qb5By2nIMS6m"
      },
      "source": [
        "## Análise dos Dados\n"
      ]
    },
    {
      "cell_type": "markdown",
      "metadata": {
        "id": "RYgvuebKNg8-"
      },
      "source": [
        "**Dicionário das variáveis**\n",
        "\n",
        "* id - número usado para identificar o imóvel\n",
        "* name - pessoa ou empresa que está anunciando \n",
        "* host_id - número usado para identificar o proprietário\n",
        "* host_name - nome do proprietário\n",
        "* neighbourhood_group - região\n",
        "* neighbourhood - bairro\n",
        "* latitude - coordenadas\n",
        "* longitude - coordenadas\n",
        "* room_type - tipo de imóvel\n",
        "* price - preço da diária\n",
        "* minimum_nights - mínimo de noites para locação\n",
        "* number_of_reviews - número de avaliações da propriedade\n",
        "* last_reviews - última avaliação\n",
        "* reviews_per_month - avaliações por mês \n",
        "* calculated_host_listings_count - quantidade de imóveis do mesmo anfitrião\n",
        "* availability_365 - número de dias de disponibilidade dentro de 365 dias\n",
        "* number_of_reviews_ltm - avaliação de desempenho dos ultimos 12 meses \n",
        "* license - licença para alugueis\n",
        "\n",
        "\n",
        "\n",
        "Antes de iniciar qualquer análise, vamos verificar a cara do nosso *dataset*, analisando as 5 primeiras entradas."
      ]
    },
    {
      "cell_type": "code",
      "metadata": {
        "id": "2iS_dae7YQtO",
        "colab": {
          "base_uri": "https://localhost:8080/",
          "height": 565
        },
        "outputId": "30223a12-6f91-4acf-c7e2-bedffe083529"
      },
      "source": [
        "# mostrar as 5 primeiras entradas\n",
        "df.head()"
      ],
      "execution_count": null,
      "outputs": [
        {
          "output_type": "execute_result",
          "data": {
            "text/plain": [
              "       id                                               name  host_id  \\\n",
              "0     109  Amazing bright elegant condo park front *UPGRA...      521   \n",
              "1    2708  Runyon Canyon | Beau Furn Mirror Mini-Suite Fi...     3008   \n",
              "2    2732                              Zen Life at the Beach     3041   \n",
              "3   65467                       A Luxury Home in Los Angeles    61864   \n",
              "4  206662                 Hollywood & Hiking, 30 day minimum    33861   \n",
              "\n",
              "        host_name  neighbourhood_group         neighbourhood  latitude  \\\n",
              "0           Paolo         Other Cities           Culver City  33.98301   \n",
              "1           Chas.  City of Los Angeles             Hollywood  34.09625   \n",
              "2  Yoga Priestess         Other Cities          Santa Monica  34.00440   \n",
              "3         Olivier         Other Cities           Culver City  34.02438   \n",
              "4           Kevin  City of Los Angeles  Hollywood Hills West  34.10420   \n",
              "\n",
              "   longitude        room_type  price  minimum_nights  number_of_reviews  \\\n",
              "0 -118.38607  Entire home/apt    115              30                  2   \n",
              "1 -118.34605     Private room    118              30                 38   \n",
              "2 -118.48095     Private room    179               7                 24   \n",
              "3 -118.38374     Private room    300              60                  0   \n",
              "4 -118.34748     Private room     46              30                 95   \n",
              "\n",
              "  last_review  reviews_per_month  calculated_host_listings_count  \\\n",
              "0  2016-05-15               0.01                               1   \n",
              "1  2022-11-29               0.37                               2   \n",
              "2  2022-08-21               0.17                               2   \n",
              "3         NaN                NaN                               2   \n",
              "4  2022-08-11               0.71                               1   \n",
              "\n",
              "   availability_365  number_of_reviews_ltm license  \n",
              "0               227                      0     NaN  \n",
              "1               239                      5     NaN  \n",
              "2               365                      3     NaN  \n",
              "3               365                      0     NaN  \n",
              "4                84                      4     NaN  "
            ],
            "text/html": [
              "\n",
              "  <div id=\"df-b0a23cbd-5e25-4c60-8a68-c5b49cd1f569\">\n",
              "    <div class=\"colab-df-container\">\n",
              "      <div>\n",
              "<style scoped>\n",
              "    .dataframe tbody tr th:only-of-type {\n",
              "        vertical-align: middle;\n",
              "    }\n",
              "\n",
              "    .dataframe tbody tr th {\n",
              "        vertical-align: top;\n",
              "    }\n",
              "\n",
              "    .dataframe thead th {\n",
              "        text-align: right;\n",
              "    }\n",
              "</style>\n",
              "<table border=\"1\" class=\"dataframe\">\n",
              "  <thead>\n",
              "    <tr style=\"text-align: right;\">\n",
              "      <th></th>\n",
              "      <th>id</th>\n",
              "      <th>name</th>\n",
              "      <th>host_id</th>\n",
              "      <th>host_name</th>\n",
              "      <th>neighbourhood_group</th>\n",
              "      <th>neighbourhood</th>\n",
              "      <th>latitude</th>\n",
              "      <th>longitude</th>\n",
              "      <th>room_type</th>\n",
              "      <th>price</th>\n",
              "      <th>minimum_nights</th>\n",
              "      <th>number_of_reviews</th>\n",
              "      <th>last_review</th>\n",
              "      <th>reviews_per_month</th>\n",
              "      <th>calculated_host_listings_count</th>\n",
              "      <th>availability_365</th>\n",
              "      <th>number_of_reviews_ltm</th>\n",
              "      <th>license</th>\n",
              "    </tr>\n",
              "  </thead>\n",
              "  <tbody>\n",
              "    <tr>\n",
              "      <th>0</th>\n",
              "      <td>109</td>\n",
              "      <td>Amazing bright elegant condo park front *UPGRA...</td>\n",
              "      <td>521</td>\n",
              "      <td>Paolo</td>\n",
              "      <td>Other Cities</td>\n",
              "      <td>Culver City</td>\n",
              "      <td>33.98301</td>\n",
              "      <td>-118.38607</td>\n",
              "      <td>Entire home/apt</td>\n",
              "      <td>115</td>\n",
              "      <td>30</td>\n",
              "      <td>2</td>\n",
              "      <td>2016-05-15</td>\n",
              "      <td>0.01</td>\n",
              "      <td>1</td>\n",
              "      <td>227</td>\n",
              "      <td>0</td>\n",
              "      <td>NaN</td>\n",
              "    </tr>\n",
              "    <tr>\n",
              "      <th>1</th>\n",
              "      <td>2708</td>\n",
              "      <td>Runyon Canyon | Beau Furn Mirror Mini-Suite Fi...</td>\n",
              "      <td>3008</td>\n",
              "      <td>Chas.</td>\n",
              "      <td>City of Los Angeles</td>\n",
              "      <td>Hollywood</td>\n",
              "      <td>34.09625</td>\n",
              "      <td>-118.34605</td>\n",
              "      <td>Private room</td>\n",
              "      <td>118</td>\n",
              "      <td>30</td>\n",
              "      <td>38</td>\n",
              "      <td>2022-11-29</td>\n",
              "      <td>0.37</td>\n",
              "      <td>2</td>\n",
              "      <td>239</td>\n",
              "      <td>5</td>\n",
              "      <td>NaN</td>\n",
              "    </tr>\n",
              "    <tr>\n",
              "      <th>2</th>\n",
              "      <td>2732</td>\n",
              "      <td>Zen Life at the Beach</td>\n",
              "      <td>3041</td>\n",
              "      <td>Yoga Priestess</td>\n",
              "      <td>Other Cities</td>\n",
              "      <td>Santa Monica</td>\n",
              "      <td>34.00440</td>\n",
              "      <td>-118.48095</td>\n",
              "      <td>Private room</td>\n",
              "      <td>179</td>\n",
              "      <td>7</td>\n",
              "      <td>24</td>\n",
              "      <td>2022-08-21</td>\n",
              "      <td>0.17</td>\n",
              "      <td>2</td>\n",
              "      <td>365</td>\n",
              "      <td>3</td>\n",
              "      <td>NaN</td>\n",
              "    </tr>\n",
              "    <tr>\n",
              "      <th>3</th>\n",
              "      <td>65467</td>\n",
              "      <td>A Luxury Home in Los Angeles</td>\n",
              "      <td>61864</td>\n",
              "      <td>Olivier</td>\n",
              "      <td>Other Cities</td>\n",
              "      <td>Culver City</td>\n",
              "      <td>34.02438</td>\n",
              "      <td>-118.38374</td>\n",
              "      <td>Private room</td>\n",
              "      <td>300</td>\n",
              "      <td>60</td>\n",
              "      <td>0</td>\n",
              "      <td>NaN</td>\n",
              "      <td>NaN</td>\n",
              "      <td>2</td>\n",
              "      <td>365</td>\n",
              "      <td>0</td>\n",
              "      <td>NaN</td>\n",
              "    </tr>\n",
              "    <tr>\n",
              "      <th>4</th>\n",
              "      <td>206662</td>\n",
              "      <td>Hollywood &amp; Hiking, 30 day minimum</td>\n",
              "      <td>33861</td>\n",
              "      <td>Kevin</td>\n",
              "      <td>City of Los Angeles</td>\n",
              "      <td>Hollywood Hills West</td>\n",
              "      <td>34.10420</td>\n",
              "      <td>-118.34748</td>\n",
              "      <td>Private room</td>\n",
              "      <td>46</td>\n",
              "      <td>30</td>\n",
              "      <td>95</td>\n",
              "      <td>2022-08-11</td>\n",
              "      <td>0.71</td>\n",
              "      <td>1</td>\n",
              "      <td>84</td>\n",
              "      <td>4</td>\n",
              "      <td>NaN</td>\n",
              "    </tr>\n",
              "  </tbody>\n",
              "</table>\n",
              "</div>\n",
              "      <button class=\"colab-df-convert\" onclick=\"convertToInteractive('df-b0a23cbd-5e25-4c60-8a68-c5b49cd1f569')\"\n",
              "              title=\"Convert this dataframe to an interactive table.\"\n",
              "              style=\"display:none;\">\n",
              "        \n",
              "  <svg xmlns=\"http://www.w3.org/2000/svg\" height=\"24px\"viewBox=\"0 0 24 24\"\n",
              "       width=\"24px\">\n",
              "    <path d=\"M0 0h24v24H0V0z\" fill=\"none\"/>\n",
              "    <path d=\"M18.56 5.44l.94 2.06.94-2.06 2.06-.94-2.06-.94-.94-2.06-.94 2.06-2.06.94zm-11 1L8.5 8.5l.94-2.06 2.06-.94-2.06-.94L8.5 2.5l-.94 2.06-2.06.94zm10 10l.94 2.06.94-2.06 2.06-.94-2.06-.94-.94-2.06-.94 2.06-2.06.94z\"/><path d=\"M17.41 7.96l-1.37-1.37c-.4-.4-.92-.59-1.43-.59-.52 0-1.04.2-1.43.59L10.3 9.45l-7.72 7.72c-.78.78-.78 2.05 0 2.83L4 21.41c.39.39.9.59 1.41.59.51 0 1.02-.2 1.41-.59l7.78-7.78 2.81-2.81c.8-.78.8-2.07 0-2.86zM5.41 20L4 18.59l7.72-7.72 1.47 1.35L5.41 20z\"/>\n",
              "  </svg>\n",
              "      </button>\n",
              "      \n",
              "  <style>\n",
              "    .colab-df-container {\n",
              "      display:flex;\n",
              "      flex-wrap:wrap;\n",
              "      gap: 12px;\n",
              "    }\n",
              "\n",
              "    .colab-df-convert {\n",
              "      background-color: #E8F0FE;\n",
              "      border: none;\n",
              "      border-radius: 50%;\n",
              "      cursor: pointer;\n",
              "      display: none;\n",
              "      fill: #1967D2;\n",
              "      height: 32px;\n",
              "      padding: 0 0 0 0;\n",
              "      width: 32px;\n",
              "    }\n",
              "\n",
              "    .colab-df-convert:hover {\n",
              "      background-color: #E2EBFA;\n",
              "      box-shadow: 0px 1px 2px rgba(60, 64, 67, 0.3), 0px 1px 3px 1px rgba(60, 64, 67, 0.15);\n",
              "      fill: #174EA6;\n",
              "    }\n",
              "\n",
              "    [theme=dark] .colab-df-convert {\n",
              "      background-color: #3B4455;\n",
              "      fill: #D2E3FC;\n",
              "    }\n",
              "\n",
              "    [theme=dark] .colab-df-convert:hover {\n",
              "      background-color: #434B5C;\n",
              "      box-shadow: 0px 1px 3px 1px rgba(0, 0, 0, 0.15);\n",
              "      filter: drop-shadow(0px 1px 2px rgba(0, 0, 0, 0.3));\n",
              "      fill: #FFFFFF;\n",
              "    }\n",
              "  </style>\n",
              "\n",
              "      <script>\n",
              "        const buttonEl =\n",
              "          document.querySelector('#df-b0a23cbd-5e25-4c60-8a68-c5b49cd1f569 button.colab-df-convert');\n",
              "        buttonEl.style.display =\n",
              "          google.colab.kernel.accessAllowed ? 'block' : 'none';\n",
              "\n",
              "        async function convertToInteractive(key) {\n",
              "          const element = document.querySelector('#df-b0a23cbd-5e25-4c60-8a68-c5b49cd1f569');\n",
              "          const dataTable =\n",
              "            await google.colab.kernel.invokeFunction('convertToInteractive',\n",
              "                                                     [key], {});\n",
              "          if (!dataTable) return;\n",
              "\n",
              "          const docLinkHtml = 'Like what you see? Visit the ' +\n",
              "            '<a target=\"_blank\" href=https://colab.research.google.com/notebooks/data_table.ipynb>data table notebook</a>'\n",
              "            + ' to learn more about interactive tables.';\n",
              "          element.innerHTML = '';\n",
              "          dataTable['output_type'] = 'display_data';\n",
              "          await google.colab.output.renderOutput(dataTable, element);\n",
              "          const docLink = document.createElement('div');\n",
              "          docLink.innerHTML = docLinkHtml;\n",
              "          element.appendChild(docLink);\n",
              "        }\n",
              "      </script>\n",
              "    </div>\n",
              "  </div>\n",
              "  "
            ]
          },
          "metadata": {},
          "execution_count": 37
        }
      ]
    },
    {
      "cell_type": "markdown",
      "metadata": {
        "id": "6-B_qtEaYEd-"
      },
      "source": [
        "### **Q1. Quantos atributos (variáveis) e quantas entradas o nosso conjunto de dados possui? Quais os tipos das variáveis?**"
      ]
    },
    {
      "cell_type": "code",
      "metadata": {
        "id": "TFRK0tniLV-G",
        "colab": {
          "base_uri": "https://localhost:8080/",
          "height": 399
        },
        "outputId": "742dbe57-6c98-49c8-9a17-14eb8d85488e"
      },
      "source": [
        "# identificar o volume de dados do DataFrame\n",
        "print(\"Entradas:\\t {}\".format(df.shape[0]))\n",
        "print(\"Entradas:\\t {}\\n\".format(df.shape[1]))\n",
        "\n",
        "# verificar as 5 primeiras entradas do dataset\n",
        "display(df.dtypes)\n",
        "\n"
      ],
      "execution_count": null,
      "outputs": [
        {
          "output_type": "stream",
          "name": "stdout",
          "text": [
            "Entradas:\t 40438\n",
            "Entradas:\t 18\n",
            "\n"
          ]
        },
        {
          "output_type": "display_data",
          "data": {
            "text/plain": [
              "id                                  int64\n",
              "name                               object\n",
              "host_id                             int64\n",
              "host_name                          object\n",
              "neighbourhood_group                object\n",
              "neighbourhood                      object\n",
              "latitude                          float64\n",
              "longitude                         float64\n",
              "room_type                          object\n",
              "price                               int64\n",
              "minimum_nights                      int64\n",
              "number_of_reviews                   int64\n",
              "last_review                        object\n",
              "reviews_per_month                 float64\n",
              "calculated_host_listings_count      int64\n",
              "availability_365                    int64\n",
              "number_of_reviews_ltm               int64\n",
              "license                            object\n",
              "dtype: object"
            ]
          },
          "metadata": {}
        }
      ]
    },
    {
      "cell_type": "markdown",
      "metadata": {
        "id": "yz1urSUGW9iE"
      },
      "source": [
        "### **Q2. Qual a porcentagem de valores ausentes no *dataset*?**"
      ]
    },
    {
      "cell_type": "code",
      "metadata": {
        "id": "plk2FjbCXOqP",
        "colab": {
          "base_uri": "https://localhost:8080/"
        },
        "outputId": "93b6a983-cf0f-468d-826f-864fef6e48b2"
      },
      "source": [
        "# ordenar em ordem decrescente as variáveis por seus valores ausentes\n",
        "(df.isnull().sum() / df.shape[0]).sort_values(ascending=False)"
      ],
      "execution_count": null,
      "outputs": [
        {
          "output_type": "execute_result",
          "data": {
            "text/plain": [
              "license                           0.746229\n",
              "reviews_per_month                 0.261759\n",
              "last_review                       0.261759\n",
              "host_name                         0.000049\n",
              "name                              0.000049\n",
              "minimum_nights                    0.000000\n",
              "number_of_reviews_ltm             0.000000\n",
              "availability_365                  0.000000\n",
              "calculated_host_listings_count    0.000000\n",
              "number_of_reviews                 0.000000\n",
              "id                                0.000000\n",
              "room_type                         0.000000\n",
              "longitude                         0.000000\n",
              "latitude                          0.000000\n",
              "neighbourhood                     0.000000\n",
              "neighbourhood_group               0.000000\n",
              "host_id                           0.000000\n",
              "price                             0.000000\n",
              "dtype: float64"
            ]
          },
          "metadata": {},
          "execution_count": 5
        }
      ]
    },
    {
      "cell_type": "markdown",
      "source": [
        "Os dados ausentes mais relevantes são:\n",
        "*\tlicense: Nos EUA é exigido uma licença para o aluguel de residências, porém está regulamentação incide em imóveis com alugueis abaixo de 30 dias.\n",
        "* reviews_per_month: Algumas pessoas não avaliam o imóvel ou já alugaram o mesmo várias vezes e fazem uma única avaliação.\n",
        "* last_review: Este provavelmente é uma simples falha de preenchimento.\n",
        "\n",
        "\n",
        "Concluísse que estes dados ausentes não terão um impacto relevante na análise.\n"
      ],
      "metadata": {
        "id": "KOcEwI1Ov8Co"
      }
    },
    {
      "cell_type": "markdown",
      "metadata": {
        "id": "iHXvvHIxaoNc"
      },
      "source": [
        "### **Q3. Qual o tipo de distribuição das variáveis?** "
      ]
    },
    {
      "cell_type": "code",
      "metadata": {
        "id": "q2wWSfeRbmBo",
        "colab": {
          "base_uri": "https://localhost:8080/",
          "height": 607
        },
        "outputId": "779f3cbe-0185-402c-bb54-7b43f7626502"
      },
      "source": [
        "# plotar o histograma das variáveis numéricas\n",
        "df.hist(bins=15, figsize=(15,10));"
      ],
      "execution_count": null,
      "outputs": [
        {
          "output_type": "display_data",
          "data": {
            "text/plain": [
              "<Figure size 1080x720 with 12 Axes>"
            ],
            "image/png": "[encoded data removed]"
          },
          "metadata": {
            "needs_background": "light"
          }
        }
      ]
    },
    {
      "cell_type": "markdown",
      "source": [
        "Observando o histograma percebesse a presença de outliers principalmente nas colunas price e minimum_nights, estes outliers estão distorcendo os dados e precisam ser tratados."
      ],
      "metadata": {
        "id": "s3212WXZo1F1"
      }
    },
    {
      "cell_type": "code",
      "source": [
        "# Resumo estatistico das variaveis numericas\n",
        "df[['price', 'minimum_nights', 'number_of_reviews', 'reviews_per_month',\n",
        "    'calculated_host_listings_count', 'availability_365']].describe()"
      ],
      "metadata": {
        "colab": {
          "base_uri": "https://localhost:8080/",
          "height": 300
        },
        "id": "AdUePL0coyrN",
        "outputId": "eed7e6dc-1420-487a-e640-3141454b77a3"
      },
      "execution_count": null,
      "outputs": [
        {
          "output_type": "execute_result",
          "data": {
            "text/plain": [
              "              price  minimum_nights  number_of_reviews  reviews_per_month  \\\n",
              "count  40438.000000    40438.000000       40438.000000       29853.000000   \n",
              "mean     279.449602       18.700653          33.562021           1.499085   \n",
              "std     1136.463147       30.973639          72.691163           1.866809   \n",
              "min        0.000000        1.000000           0.000000           0.010000   \n",
              "25%       85.000000        2.000000           0.000000           0.240000   \n",
              "50%      138.000000       30.000000           5.000000           0.800000   \n",
              "75%      235.000000       30.000000          31.000000           2.250000   \n",
              "max    99999.000000     1124.000000        1924.000000          89.000000   \n",
              "\n",
              "       calculated_host_listings_count  availability_365  \n",
              "count                    40438.000000      40438.000000  \n",
              "mean                        32.550126        198.164969  \n",
              "std                        114.678176        142.646899  \n",
              "min                          1.000000          0.000000  \n",
              "25%                          1.000000         62.000000  \n",
              "50%                          2.000000        190.000000  \n",
              "75%                         10.000000        348.000000  \n",
              "max                        693.000000        365.000000  "
            ],
            "text/html": [
              "\n",
              "  <div id=\"df-be39ab6a-c1db-4ddb-b2fb-9a72724c983d\">\n",
              "    <div class=\"colab-df-container\">\n",
              "      <div>\n",
              "<style scoped>\n",
              "    .dataframe tbody tr th:only-of-type {\n",
              "        vertical-align: middle;\n",
              "    }\n",
              "\n",
              "    .dataframe tbody tr th {\n",
              "        vertical-align: top;\n",
              "    }\n",
              "\n",
              "    .dataframe thead th {\n",
              "        text-align: right;\n",
              "    }\n",
              "</style>\n",
              "<table border=\"1\" class=\"dataframe\">\n",
              "  <thead>\n",
              "    <tr style=\"text-align: right;\">\n",
              "      <th></th>\n",
              "      <th>price</th>\n",
              "      <th>minimum_nights</th>\n",
              "      <th>number_of_reviews</th>\n",
              "      <th>reviews_per_month</th>\n",
              "      <th>calculated_host_listings_count</th>\n",
              "      <th>availability_365</th>\n",
              "    </tr>\n",
              "  </thead>\n",
              "  <tbody>\n",
              "    <tr>\n",
              "      <th>count</th>\n",
              "      <td>40438.000000</td>\n",
              "      <td>40438.000000</td>\n",
              "      <td>40438.000000</td>\n",
              "      <td>29853.000000</td>\n",
              "      <td>40438.000000</td>\n",
              "      <td>40438.000000</td>\n",
              "    </tr>\n",
              "    <tr>\n",
              "      <th>mean</th>\n",
              "      <td>279.449602</td>\n",
              "      <td>18.700653</td>\n",
              "      <td>33.562021</td>\n",
              "      <td>1.499085</td>\n",
              "      <td>32.550126</td>\n",
              "      <td>198.164969</td>\n",
              "    </tr>\n",
              "    <tr>\n",
              "      <th>std</th>\n",
              "      <td>1136.463147</td>\n",
              "      <td>30.973639</td>\n",
              "      <td>72.691163</td>\n",
              "      <td>1.866809</td>\n",
              "      <td>114.678176</td>\n",
              "      <td>142.646899</td>\n",
              "    </tr>\n",
              "    <tr>\n",
              "      <th>min</th>\n",
              "      <td>0.000000</td>\n",
              "      <td>1.000000</td>\n",
              "      <td>0.000000</td>\n",
              "      <td>0.010000</td>\n",
              "      <td>1.000000</td>\n",
              "      <td>0.000000</td>\n",
              "    </tr>\n",
              "    <tr>\n",
              "      <th>25%</th>\n",
              "      <td>85.000000</td>\n",
              "      <td>2.000000</td>\n",
              "      <td>0.000000</td>\n",
              "      <td>0.240000</td>\n",
              "      <td>1.000000</td>\n",
              "      <td>62.000000</td>\n",
              "    </tr>\n",
              "    <tr>\n",
              "      <th>50%</th>\n",
              "      <td>138.000000</td>\n",
              "      <td>30.000000</td>\n",
              "      <td>5.000000</td>\n",
              "      <td>0.800000</td>\n",
              "      <td>2.000000</td>\n",
              "      <td>190.000000</td>\n",
              "    </tr>\n",
              "    <tr>\n",
              "      <th>75%</th>\n",
              "      <td>235.000000</td>\n",
              "      <td>30.000000</td>\n",
              "      <td>31.000000</td>\n",
              "      <td>2.250000</td>\n",
              "      <td>10.000000</td>\n",
              "      <td>348.000000</td>\n",
              "    </tr>\n",
              "    <tr>\n",
              "      <th>max</th>\n",
              "      <td>99999.000000</td>\n",
              "      <td>1124.000000</td>\n",
              "      <td>1924.000000</td>\n",
              "      <td>89.000000</td>\n",
              "      <td>693.000000</td>\n",
              "      <td>365.000000</td>\n",
              "    </tr>\n",
              "  </tbody>\n",
              "</table>\n",
              "</div>\n",
              "      <button class=\"colab-df-convert\" onclick=\"convertToInteractive('df-be39ab6a-c1db-4ddb-b2fb-9a72724c983d')\"\n",
              "              title=\"Convert this dataframe to an interactive table.\"\n",
              "              style=\"display:none;\">\n",
              "        \n",
              "  <svg xmlns=\"http://www.w3.org/2000/svg\" height=\"24px\"viewBox=\"0 0 24 24\"\n",
              "       width=\"24px\">\n",
              "    <path d=\"M0 0h24v24H0V0z\" fill=\"none\"/>\n",
              "    <path d=\"M18.56 5.44l.94 2.06.94-2.06 2.06-.94-2.06-.94-.94-2.06-.94 2.06-2.06.94zm-11 1L8.5 8.5l.94-2.06 2.06-.94-2.06-.94L8.5 2.5l-.94 2.06-2.06.94zm10 10l.94 2.06.94-2.06 2.06-.94-2.06-.94-.94-2.06-.94 2.06-2.06.94z\"/><path d=\"M17.41 7.96l-1.37-1.37c-.4-.4-.92-.59-1.43-.59-.52 0-1.04.2-1.43.59L10.3 9.45l-7.72 7.72c-.78.78-.78 2.05 0 2.83L4 21.41c.39.39.9.59 1.41.59.51 0 1.02-.2 1.41-.59l7.78-7.78 2.81-2.81c.8-.78.8-2.07 0-2.86zM5.41 20L4 18.59l7.72-7.72 1.47 1.35L5.41 20z\"/>\n",
              "  </svg>\n",
              "      </button>\n",
              "      \n",
              "  <style>\n",
              "    .colab-df-container {\n",
              "      display:flex;\n",
              "      flex-wrap:wrap;\n",
              "      gap: 12px;\n",
              "    }\n",
              "\n",
              "    .colab-df-convert {\n",
              "      background-color: #E8F0FE;\n",
              "      border: none;\n",
              "      border-radius: 50%;\n",
              "      cursor: pointer;\n",
              "      display: none;\n",
              "      fill: #1967D2;\n",
              "      height: 32px;\n",
              "      padding: 0 0 0 0;\n",
              "      width: 32px;\n",
              "    }\n",
              "\n",
              "    .colab-df-convert:hover {\n",
              "      background-color: #E2EBFA;\n",
              "      box-shadow: 0px 1px 2px rgba(60, 64, 67, 0.3), 0px 1px 3px 1px rgba(60, 64, 67, 0.15);\n",
              "      fill: #174EA6;\n",
              "    }\n",
              "\n",
              "    [theme=dark] .colab-df-convert {\n",
              "      background-color: #3B4455;\n",
              "      fill: #D2E3FC;\n",
              "    }\n",
              "\n",
              "    [theme=dark] .colab-df-convert:hover {\n",
              "      background-color: #434B5C;\n",
              "      box-shadow: 0px 1px 3px 1px rgba(0, 0, 0, 0.15);\n",
              "      filter: drop-shadow(0px 1px 2px rgba(0, 0, 0, 0.3));\n",
              "      fill: #FFFFFF;\n",
              "    }\n",
              "  </style>\n",
              "\n",
              "      <script>\n",
              "        const buttonEl =\n",
              "          document.querySelector('#df-be39ab6a-c1db-4ddb-b2fb-9a72724c983d button.colab-df-convert');\n",
              "        buttonEl.style.display =\n",
              "          google.colab.kernel.accessAllowed ? 'block' : 'none';\n",
              "\n",
              "        async function convertToInteractive(key) {\n",
              "          const element = document.querySelector('#df-be39ab6a-c1db-4ddb-b2fb-9a72724c983d');\n",
              "          const dataTable =\n",
              "            await google.colab.kernel.invokeFunction('convertToInteractive',\n",
              "                                                     [key], {});\n",
              "          if (!dataTable) return;\n",
              "\n",
              "          const docLinkHtml = 'Like what you see? Visit the ' +\n",
              "            '<a target=\"_blank\" href=https://colab.research.google.com/notebooks/data_table.ipynb>data table notebook</a>'\n",
              "            + ' to learn more about interactive tables.';\n",
              "          element.innerHTML = '';\n",
              "          dataTable['output_type'] = 'display_data';\n",
              "          await google.colab.output.renderOutput(dataTable, element);\n",
              "          const docLink = document.createElement('div');\n",
              "          docLink.innerHTML = docLinkHtml;\n",
              "          element.appendChild(docLink);\n",
              "        }\n",
              "      </script>\n",
              "    </div>\n",
              "  </div>\n",
              "  "
            ]
          },
          "metadata": {},
          "execution_count": 7
        }
      ]
    },
    {
      "cell_type": "markdown",
      "source": [
        "Observando as informações acima, podemos concluir:\n",
        "\n",
        "\n",
        "*\tA mediana dos preços é de 138 dólares, mas temos um preço máximo de 99999 dólares, ou seja, claramente existem outliers. Precisamos lidar com esses valores fora da curva para termos medias mais próximas da realidade.\n",
        "*\tPodemos ver que a mediana das noites mínimas é de 30 dias, considerando este valor correto identificamos que na cultura norte americana as pessoas geralmente alugam por um mês completo, porém há um valor máximo de 1124 noites, isto claramente é um outlier. Precisamos lidar com ele para podermos ter valores mais próximos a realidade.\n",
        "\n",
        "\n",
        "\n",
        "Para começar, vamos observar quantos anúncios estão com noites mínimas acima de 45 dias."
      ],
      "metadata": {
        "id": "2_7eyf0XpQmC"
      }
    },
    {
      "cell_type": "code",
      "source": [
        "# Plotar um boxplot para melhor identificação dos outlaiers de minimum_nights\n",
        "df.minimum_nights.plot(kind='box', vert=False, figsize=(15, 3))\n",
        "plt.show()\n",
        "\n",
        "# ver quantidade de valores acima de 60 dias para minimum_nights\n",
        "print(\"minimum_nights: valores acima de 45:\")\n",
        "print(\"{} entradas\".format(len(df[df.minimum_nights > 45])))\n",
        "print(\"{:.4f}%\".format((len(df[df.minimum_nights > 45]) / df.shape[0])*100))"
      ],
      "metadata": {
        "colab": {
          "base_uri": "https://localhost:8080/",
          "height": 263
        },
        "id": "5GYREdwopOQP",
        "outputId": "734f947d-e679-4bbd-b9e9-cdd14fa76377"
      },
      "execution_count": null,
      "outputs": [
        {
          "output_type": "display_data",
          "data": {
            "text/plain": [
              "<Figure size 1080x216 with 1 Axes>"
            ],
            "image/png": "[encoded data removed]"
          },
          "metadata": {
            "needs_background": "light"
          }
        },
        {
          "output_type": "stream",
          "name": "stdout",
          "text": [
            "minimum_nights: valores acima de 45:\n",
            "631 entradas\n",
            "1.5604%\n"
          ]
        }
      ]
    },
    {
      "cell_type": "markdown",
      "source": [
        "Aqui veremos quantas residências estão com valores da diária acima de 1000 dólares."
      ],
      "metadata": {
        "id": "UrMhMQYvyHG5"
      }
    },
    {
      "cell_type": "code",
      "source": [
        "# Plotar um boxplot para melhor identificação dos outlaiers de price\n",
        "\n",
        "df.price.plot(kind='box', vert=False, figsize=(15, 3))\n",
        "plt.show()\n",
        "\n",
        "# ver quantidade de valores acima de 1000 dolares para price\n",
        "print(\"price: valores acima de 1000:\")\n",
        "print(\"{} entradas\".format(len(df[df.price > 1000])))\n",
        "print(\"{:.4f}%\".format((len(df[df.price > 1000]) / df.shape[0])*100))"
      ],
      "metadata": {
        "colab": {
          "base_uri": "https://localhost:8080/",
          "height": 263
        },
        "id": "hG5m71tgp6BN",
        "outputId": "65578423-3d48-40cc-daa7-07709a04b76e"
      },
      "execution_count": null,
      "outputs": [
        {
          "output_type": "display_data",
          "data": {
            "text/plain": [
              "<Figure size 1080x216 with 1 Axes>"
            ],
            "image/png": "[encoded data removed]"
          },
          "metadata": {
            "needs_background": "light"
          }
        },
        {
          "output_type": "stream",
          "name": "stdout",
          "text": [
            "price: valores acima de 1000:\n",
            "1388 entradas\n",
            "3.4324%\n"
          ]
        }
      ]
    },
    {
      "cell_type": "markdown",
      "source": [
        "Vamos remover os valores acima de 45 dias de minimum_nights e os valores acima de 1000 dólares de price."
      ],
      "metadata": {
        "id": "DWvmpZQYyVAH"
      }
    },
    {
      "cell_type": "code",
      "source": [
        "# Remover os \"outlaiers\" para um novo DataFrame \"df_clean\"\n",
        "df_clean = df.copy()\n",
        "df_clean.drop(df_clean[df_clean.price > 1000].index, axis = 0, inplace=True)\n",
        "df_clean.drop(df_clean[df_clean.minimum_nights > 45].index, axis = 0, inplace=True)\n",
        "\n",
        "# plotar o histograma das variáveis numéricas\n",
        "df_clean.hist(bins=15, figsize=(15,10));\n"
      ],
      "metadata": {
        "colab": {
          "base_uri": "https://localhost:8080/",
          "height": 607
        },
        "id": "MxPcbKzLqXcW",
        "outputId": "dabe03dd-38ba-418c-fc83-7e966aa2d205"
      },
      "execution_count": null,
      "outputs": [
        {
          "output_type": "display_data",
          "data": {
            "text/plain": [
              "<Figure size 1080x720 with 12 Axes>"
            ],
            "image/png": "[encoded data removed]"
          },
          "metadata": {
            "needs_background": "light"
          }
        }
      ]
    },
    {
      "cell_type": "markdown",
      "source": [
        "Depois de uma limpeza de dados, percebemos que para a cidade de Los Angeles geralmente os alugueis são para 2 dias, ou seja, para fins de semana ou para o mês inteiro, por ser uma cidade turística e com muitas praias, as famílias alugam casas para o período de férias. Por isso o número de casas alugadas por 30 dias é relevante."
      ],
      "metadata": {
        "id": "JtKe6fsxsXAR"
      }
    },
    {
      "cell_type": "markdown",
      "metadata": {
        "id": "7x4aw1j5wNmn"
      },
      "source": [
        "### **Q4. Qual a média dos preços de aluguel?**"
      ]
    },
    {
      "cell_type": "code",
      "source": [
        "# Ver a média da coluna \"price\"\n",
        "df_clean.price.mean()"
      ],
      "metadata": {
        "colab": {
          "base_uri": "https://localhost:8080/"
        },
        "id": "xqPecJTbuXmP",
        "outputId": "43af5f03-d9db-468c-bd22-74661e1ca5dc"
      },
      "execution_count": null,
      "outputs": [
        {
          "output_type": "execute_result",
          "data": {
            "text/plain": [
              "183.38614608261366"
            ]
          },
          "metadata": {},
          "execution_count": 35
        }
      ]
    },
    {
      "cell_type": "markdown",
      "source": [
        "Depois da limpeza de dados a média dos preços caiu de 278,44 para 183,38. Porém a mediana pouco mudou, isto nos mostra que os outliers estavam elevando muito a média dos preços. Agora temos uma média de preços real de 183,38 dólares."
      ],
      "metadata": {
        "id": "58PIa8GIufOj"
      }
    },
    {
      "cell_type": "markdown",
      "metadata": {
        "id": "IXn2oIo5qx-w"
      },
      "source": [
        "### **Q4. Qual a correlação existente entre as variáveis**"
      ]
    },
    {
      "cell_type": "code",
      "metadata": {
        "id": "x2ayzBajqxyd",
        "colab": {
          "base_uri": "https://localhost:8080/",
          "height": 238
        },
        "outputId": "03662254-6122-476a-fb2e-72f07978efaf"
      },
      "source": [
        "# criar uma matriz de correlação\n",
        "corr = df_clean[['price', 'minimum_nights', 'number_of_reviews', 'reviews_per_month',\n",
        "    'calculated_host_listings_count', 'availability_365']].corr()\n",
        "# mostrar a matriz de correlação\n",
        "display(corr)"
      ],
      "execution_count": null,
      "outputs": [
        {
          "output_type": "display_data",
          "data": {
            "text/plain": [
              "                                   price  minimum_nights  number_of_reviews  \\\n",
              "price                           1.000000       -0.122814          -0.044009   \n",
              "minimum_nights                 -0.122814        1.000000          -0.189340   \n",
              "number_of_reviews              -0.044009       -0.189340           1.000000   \n",
              "reviews_per_month               0.006927       -0.433737           0.576233   \n",
              "calculated_host_listings_count -0.063625        0.214569          -0.113459   \n",
              "availability_365                0.054910        0.012817          -0.033474   \n",
              "\n",
              "                                reviews_per_month  \\\n",
              "price                                    0.006927   \n",
              "minimum_nights                          -0.433737   \n",
              "number_of_reviews                        0.576233   \n",
              "reviews_per_month                        1.000000   \n",
              "calculated_host_listings_count          -0.105789   \n",
              "availability_365                         0.068454   \n",
              "\n",
              "                                calculated_host_listings_count  \\\n",
              "price                                                -0.063625   \n",
              "minimum_nights                                        0.214569   \n",
              "number_of_reviews                                    -0.113459   \n",
              "reviews_per_month                                    -0.105789   \n",
              "calculated_host_listings_count                        1.000000   \n",
              "availability_365                                      0.207109   \n",
              "\n",
              "                                availability_365  \n",
              "price                                   0.054910  \n",
              "minimum_nights                          0.012817  \n",
              "number_of_reviews                      -0.033474  \n",
              "reviews_per_month                       0.068454  \n",
              "calculated_host_listings_count          0.207109  \n",
              "availability_365                        1.000000  "
            ],
            "text/html": [
              "\n",
              "  <div id=\"df-61015ce0-80f1-4645-aca2-4994a90b0169\">\n",
              "    <div class=\"colab-df-container\">\n",
              "      <div>\n",
              "<style scoped>\n",
              "    .dataframe tbody tr th:only-of-type {\n",
              "        vertical-align: middle;\n",
              "    }\n",
              "\n",
              "    .dataframe tbody tr th {\n",
              "        vertical-align: top;\n",
              "    }\n",
              "\n",
              "    .dataframe thead th {\n",
              "        text-align: right;\n",
              "    }\n",
              "</style>\n",
              "<table border=\"1\" class=\"dataframe\">\n",
              "  <thead>\n",
              "    <tr style=\"text-align: right;\">\n",
              "      <th></th>\n",
              "      <th>price</th>\n",
              "      <th>minimum_nights</th>\n",
              "      <th>number_of_reviews</th>\n",
              "      <th>reviews_per_month</th>\n",
              "      <th>calculated_host_listings_count</th>\n",
              "      <th>availability_365</th>\n",
              "    </tr>\n",
              "  </thead>\n",
              "  <tbody>\n",
              "    <tr>\n",
              "      <th>price</th>\n",
              "      <td>1.000000</td>\n",
              "      <td>-0.122814</td>\n",
              "      <td>-0.044009</td>\n",
              "      <td>0.006927</td>\n",
              "      <td>-0.063625</td>\n",
              "      <td>0.054910</td>\n",
              "    </tr>\n",
              "    <tr>\n",
              "      <th>minimum_nights</th>\n",
              "      <td>-0.122814</td>\n",
              "      <td>1.000000</td>\n",
              "      <td>-0.189340</td>\n",
              "      <td>-0.433737</td>\n",
              "      <td>0.214569</td>\n",
              "      <td>0.012817</td>\n",
              "    </tr>\n",
              "    <tr>\n",
              "      <th>number_of_reviews</th>\n",
              "      <td>-0.044009</td>\n",
              "      <td>-0.189340</td>\n",
              "      <td>1.000000</td>\n",
              "      <td>0.576233</td>\n",
              "      <td>-0.113459</td>\n",
              "      <td>-0.033474</td>\n",
              "    </tr>\n",
              "    <tr>\n",
              "      <th>reviews_per_month</th>\n",
              "      <td>0.006927</td>\n",
              "      <td>-0.433737</td>\n",
              "      <td>0.576233</td>\n",
              "      <td>1.000000</td>\n",
              "      <td>-0.105789</td>\n",
              "      <td>0.068454</td>\n",
              "    </tr>\n",
              "    <tr>\n",
              "      <th>calculated_host_listings_count</th>\n",
              "      <td>-0.063625</td>\n",
              "      <td>0.214569</td>\n",
              "      <td>-0.113459</td>\n",
              "      <td>-0.105789</td>\n",
              "      <td>1.000000</td>\n",
              "      <td>0.207109</td>\n",
              "    </tr>\n",
              "    <tr>\n",
              "      <th>availability_365</th>\n",
              "      <td>0.054910</td>\n",
              "      <td>0.012817</td>\n",
              "      <td>-0.033474</td>\n",
              "      <td>0.068454</td>\n",
              "      <td>0.207109</td>\n",
              "      <td>1.000000</td>\n",
              "    </tr>\n",
              "  </tbody>\n",
              "</table>\n",
              "</div>\n",
              "      <button class=\"colab-df-convert\" onclick=\"convertToInteractive('df-61015ce0-80f1-4645-aca2-4994a90b0169')\"\n",
              "              title=\"Convert this dataframe to an interactive table.\"\n",
              "              style=\"display:none;\">\n",
              "        \n",
              "  <svg xmlns=\"http://www.w3.org/2000/svg\" height=\"24px\"viewBox=\"0 0 24 24\"\n",
              "       width=\"24px\">\n",
              "    <path d=\"M0 0h24v24H0V0z\" fill=\"none\"/>\n",
              "    <path d=\"M18.56 5.44l.94 2.06.94-2.06 2.06-.94-2.06-.94-.94-2.06-.94 2.06-2.06.94zm-11 1L8.5 8.5l.94-2.06 2.06-.94-2.06-.94L8.5 2.5l-.94 2.06-2.06.94zm10 10l.94 2.06.94-2.06 2.06-.94-2.06-.94-.94-2.06-.94 2.06-2.06.94z\"/><path d=\"M17.41 7.96l-1.37-1.37c-.4-.4-.92-.59-1.43-.59-.52 0-1.04.2-1.43.59L10.3 9.45l-7.72 7.72c-.78.78-.78 2.05 0 2.83L4 21.41c.39.39.9.59 1.41.59.51 0 1.02-.2 1.41-.59l7.78-7.78 2.81-2.81c.8-.78.8-2.07 0-2.86zM5.41 20L4 18.59l7.72-7.72 1.47 1.35L5.41 20z\"/>\n",
              "  </svg>\n",
              "      </button>\n",
              "      \n",
              "  <style>\n",
              "    .colab-df-container {\n",
              "      display:flex;\n",
              "      flex-wrap:wrap;\n",
              "      gap: 12px;\n",
              "    }\n",
              "\n",
              "    .colab-df-convert {\n",
              "      background-color: #E8F0FE;\n",
              "      border: none;\n",
              "      border-radius: 50%;\n",
              "      cursor: pointer;\n",
              "      display: none;\n",
              "      fill: #1967D2;\n",
              "      height: 32px;\n",
              "      padding: 0 0 0 0;\n",
              "      width: 32px;\n",
              "    }\n",
              "\n",
              "    .colab-df-convert:hover {\n",
              "      background-color: #E2EBFA;\n",
              "      box-shadow: 0px 1px 2px rgba(60, 64, 67, 0.3), 0px 1px 3px 1px rgba(60, 64, 67, 0.15);\n",
              "      fill: #174EA6;\n",
              "    }\n",
              "\n",
              "    [theme=dark] .colab-df-convert {\n",
              "      background-color: #3B4455;\n",
              "      fill: #D2E3FC;\n",
              "    }\n",
              "\n",
              "    [theme=dark] .colab-df-convert:hover {\n",
              "      background-color: #434B5C;\n",
              "      box-shadow: 0px 1px 3px 1px rgba(0, 0, 0, 0.15);\n",
              "      filter: drop-shadow(0px 1px 2px rgba(0, 0, 0, 0.3));\n",
              "      fill: #FFFFFF;\n",
              "    }\n",
              "  </style>\n",
              "\n",
              "      <script>\n",
              "        const buttonEl =\n",
              "          document.querySelector('#df-61015ce0-80f1-4645-aca2-4994a90b0169 button.colab-df-convert');\n",
              "        buttonEl.style.display =\n",
              "          google.colab.kernel.accessAllowed ? 'block' : 'none';\n",
              "\n",
              "        async function convertToInteractive(key) {\n",
              "          const element = document.querySelector('#df-61015ce0-80f1-4645-aca2-4994a90b0169');\n",
              "          const dataTable =\n",
              "            await google.colab.kernel.invokeFunction('convertToInteractive',\n",
              "                                                     [key], {});\n",
              "          if (!dataTable) return;\n",
              "\n",
              "          const docLinkHtml = 'Like what you see? Visit the ' +\n",
              "            '<a target=\"_blank\" href=https://colab.research.google.com/notebooks/data_table.ipynb>data table notebook</a>'\n",
              "            + ' to learn more about interactive tables.';\n",
              "          element.innerHTML = '';\n",
              "          dataTable['output_type'] = 'display_data';\n",
              "          await google.colab.output.renderOutput(dataTable, element);\n",
              "          const docLink = document.createElement('div');\n",
              "          docLink.innerHTML = docLinkHtml;\n",
              "          element.appendChild(docLink);\n",
              "        }\n",
              "      </script>\n",
              "    </div>\n",
              "  </div>\n",
              "  "
            ]
          },
          "metadata": {}
        }
      ]
    },
    {
      "cell_type": "code",
      "metadata": {
        "id": "91UujDr6ueqE",
        "colab": {
          "base_uri": "https://localhost:8080/",
          "height": 411
        },
        "outputId": "9702c456-f0b6-421f-d1b5-2fc533a8a105"
      },
      "source": [
        "# plotar um heatmap a partir das correlações\n",
        "sns.heatmap(corr, cmap=\"RdBu\", fmt=\".2f\", square= True, linecolor=\"white\", annot= True);"
      ],
      "execution_count": null,
      "outputs": [
        {
          "output_type": "display_data",
          "data": {
            "text/plain": [
              "<Figure size 432x288 with 2 Axes>"
            ],
            "image/png": "[encoded data removed]"
          },
          "metadata": {
            "needs_background": "light"
          }
        }
      ]
    },
    {
      "cell_type": "markdown",
      "metadata": {
        "id": "7b6RMWpuHKN-"
      },
      "source": [
        "### **Q5. Qual o tipo de imóvel mais alugado no Airbnb?**"
      ]
    },
    {
      "cell_type": "markdown",
      "source": [
        "O tipo de imóvel mais alugado na cidade de Los Angeles são Casas e apartamentos, seguido por quartos individuais."
      ],
      "metadata": {
        "id": "IEY5zOLp_c5R"
      }
    },
    {
      "cell_type": "code",
      "metadata": {
        "id": "ueLPNWvPHgfB",
        "colab": {
          "base_uri": "https://localhost:8080/"
        },
        "outputId": "8d32b66d-3fb4-47b7-a41c-47e7e535991a"
      },
      "source": [
        "# mostrar a quantidade de cada tipo de imóvel disponível\n",
        "df_clean.room_type.value_counts()"
      ],
      "execution_count": null,
      "outputs": [
        {
          "output_type": "execute_result",
          "data": {
            "text/plain": [
              "Entire home/apt    26636\n",
              "Private room       10960\n",
              "Shared room          770\n",
              "Hotel room            78\n",
              "Name: room_type, dtype: int64"
            ]
          },
          "metadata": {},
          "execution_count": 128
        }
      ]
    },
    {
      "cell_type": "code",
      "metadata": {
        "id": "EvwoO-XAHhIm",
        "colab": {
          "base_uri": "https://localhost:8080/"
        },
        "outputId": "55f1eb25-fe43-457b-b9da-45ff917c2599"
      },
      "source": [
        "# mostrar a porcentagem de cada tipo de imóvel disponível\n",
        "df_clean.room_type.value_counts() / df_clean.shape[0]*100"
      ],
      "execution_count": null,
      "outputs": [
        {
          "output_type": "execute_result",
          "data": {
            "text/plain": [
              "Entire home/apt    69.285194\n",
              "Private room       28.509000\n",
              "Shared room         2.002913\n",
              "Hotel room          0.202893\n",
              "Name: room_type, dtype: float64"
            ]
          },
          "metadata": {},
          "execution_count": 13
        }
      ]
    },
    {
      "cell_type": "markdown",
      "metadata": {
        "id": "MFa5NbnLJMcd"
      },
      "source": [
        "### **Q6. Qual a localidade mais cara do dataset?**\n",
        "\n"
      ]
    },
    {
      "cell_type": "markdown",
      "source": [
        "Los Angeles é uma cidade grande e muito procurada por todos, abaixo veremos algumas analises interessantes sobre a disposição de imóveis na cidade.  \n"
      ],
      "metadata": {
        "id": "fcDO6Or2_xim"
      }
    },
    {
      "cell_type": "code",
      "metadata": {
        "id": "MD_xa143JZpi",
        "colab": {
          "base_uri": "https://localhost:8080/"
        },
        "outputId": "64936082-3b0f-48aa-b74e-fc0d1bffe045"
      },
      "source": [
        "# Ver a media de preço por noite dos bairros\n",
        "df_clean.groupby([\"neighbourhood\"]).price.mean().sort_values(ascending=False)[:10]"
      ],
      "execution_count": null,
      "outputs": [
        {
          "output_type": "execute_result",
          "data": {
            "text/plain": [
              "neighbourhood\n",
              "Malibu                                   518.129167\n",
              "Unincorporated Santa Monica Mountains    414.704225\n",
              "Hidden Hills                             414.000000\n",
              "Bel-Air                                  407.823529\n",
              "Beverly Crest                            397.588235\n",
              "Hollywood Hills West                     389.355978\n",
              "Avalon                                   381.275132\n",
              "Rolling Hills Estates                    342.200000\n",
              "Pacific Palisades                        334.460993\n",
              "Sepulveda Basin                          330.000000\n",
              "Name: price, dtype: float64"
            ]
          },
          "metadata": {},
          "execution_count": 40
        }
      ]
    },
    {
      "cell_type": "markdown",
      "source": [
        "Podemos ver que Malibu é o bairro mais caro de Los Angeles, é algo esperado por ter várias casas de praia luxuosas. Os dados acima nos mostram algo bem próximo da realidade, principalmente para quem for alugar com a intenção de férias. Porém existem algumas características nos bairros mais centrais, o número de imóveis para alocação é maior e também existem muitos quartos usados por poucos dias ou até uma única noite. Veremos abaixo como exemplo o caso de Beverly Hills."
      ],
      "metadata": {
        "id": "z7TKNaeo2Ju2"
      }
    },
    {
      "cell_type": "code",
      "source": [
        "# Ver a média de noites minimas por bairro\n",
        "df_clean.groupby([\"neighbourhood\"]).minimum_nights.mean().sort_values(ascending=False)[:10]"
      ],
      "metadata": {
        "colab": {
          "base_uri": "https://localhost:8080/"
        },
        "id": "_hjULQzY47aP",
        "outputId": "b87919cd-13ea-4c6d-9881-75dd28fe30e9"
      },
      "execution_count": null,
      "outputs": [
        {
          "output_type": "execute_result",
          "data": {
            "text/plain": [
              "neighbourhood\n",
              "University Park           30.241379\n",
              "Green Meadows             30.000000\n",
              "South Park                30.000000\n",
              "Historic South-Central    29.228814\n",
              "Adams-Normandie           29.200000\n",
              "Beverlywood               28.777778\n",
              "Koreatown                 28.465000\n",
              "Lincoln Heights           27.652174\n",
              "West Los Angeles          27.642857\n",
              "Sherman Oaks              27.596003\n",
              "Name: minimum_nights, dtype: float64"
            ]
          },
          "metadata": {},
          "execution_count": 119
        }
      ]
    },
    {
      "cell_type": "markdown",
      "source": [
        "Aqui vemos a média de noites mínimas por bairro, logo percebemos que o University Park está com a maior média, superior a 30 dias. Isto é natural, pois é usado por estudantes.\n",
        "Também percebemos que a media de noites mínimas é alta em vários bairros, isto porque Los Angeles é muito usada para a temporada de férias.\n",
        "\n",
        "\n",
        "\n",
        "\n",
        "**Beverly Hills** é um bairro nobre de Los Angeles, porém por ser um bairro mais central tem uma média de preços mais baixa por conta de boa parte dos imóveis anunciados serem quartos para poucos dias.\n",
        "\n",
        "\n",
        "\n",
        "\n",
        "\n"
      ],
      "metadata": {
        "id": "_-UfXNAV4rBJ"
      }
    },
    {
      "cell_type": "code",
      "source": [
        "# Informações sobre Beverly Hills\n",
        "df_clean.loc[df[\"neighbourhood\"] == \"Beverly Hills\"].describe()"
      ],
      "metadata": {
        "colab": {
          "base_uri": "https://localhost:8080/",
          "height": 364
        },
        "id": "d7Ydqzcg96Z6",
        "outputId": "8384f488-d37a-43a9-f6d3-7eee8a9a04b5"
      },
      "execution_count": null,
      "outputs": [
        {
          "output_type": "execute_result",
          "data": {
            "text/plain": [
              "                 id       host_id     latitude    longitude        price  \\\n",
              "count  1.059000e+03  1.059000e+03  1059.000000  1059.000000  1059.000000   \n",
              "mean   4.566970e+17  2.725618e+08    34.064340  -118.388640   206.173749   \n",
              "std    3.535962e+17  1.970258e+08     0.007127     0.009931   149.738304   \n",
              "min    5.287100e+04  1.560820e+05    34.053070  -118.425870     0.000000   \n",
              "25%    4.375294e+07  6.314672e+07    34.060025  -118.394272   120.000000   \n",
              "50%    7.019241e+17  3.032508e+08    34.062280  -118.385248   150.000000   \n",
              "75%    7.531031e+17  4.842760e+08    34.066150  -118.383851   234.000000   \n",
              "max    7.740364e+17  4.896686e+08    34.110840  -118.372600  1000.000000   \n",
              "\n",
              "       minimum_nights  number_of_reviews  reviews_per_month  \\\n",
              "count     1059.000000        1059.000000         527.000000   \n",
              "mean         7.563739          13.075543           1.336129   \n",
              "std         11.290897          38.144536           1.480429   \n",
              "min          1.000000           0.000000           0.010000   \n",
              "25%          1.000000           0.000000           0.270000   \n",
              "50%          2.000000           0.000000           0.910000   \n",
              "75%          7.000000           7.000000           1.875000   \n",
              "max         45.000000         421.000000          10.410000   \n",
              "\n",
              "       calculated_host_listings_count  availability_365  number_of_reviews_ltm  \n",
              "count                     1059.000000       1059.000000            1059.000000  \n",
              "mean                        31.282342        257.590179               4.968839  \n",
              "std                         59.899164        138.602382              11.888660  \n",
              "min                          1.000000          0.000000               0.000000  \n",
              "25%                          2.000000        133.500000               0.000000  \n",
              "50%                         17.000000        342.000000               0.000000  \n",
              "75%                         54.000000        365.000000               3.000000  \n",
              "max                        693.000000        365.000000             106.000000  "
            ],
            "text/html": [
              "\n",
              "  <div id=\"df-119e9b47-d21a-4318-a235-478219b876f8\">\n",
              "    <div class=\"colab-df-container\">\n",
              "      <div>\n",
              "<style scoped>\n",
              "    .dataframe tbody tr th:only-of-type {\n",
              "        vertical-align: middle;\n",
              "    }\n",
              "\n",
              "    .dataframe tbody tr th {\n",
              "        vertical-align: top;\n",
              "    }\n",
              "\n",
              "    .dataframe thead th {\n",
              "        text-align: right;\n",
              "    }\n",
              "</style>\n",
              "<table border=\"1\" class=\"dataframe\">\n",
              "  <thead>\n",
              "    <tr style=\"text-align: right;\">\n",
              "      <th></th>\n",
              "      <th>id</th>\n",
              "      <th>host_id</th>\n",
              "      <th>latitude</th>\n",
              "      <th>longitude</th>\n",
              "      <th>price</th>\n",
              "      <th>minimum_nights</th>\n",
              "      <th>number_of_reviews</th>\n",
              "      <th>reviews_per_month</th>\n",
              "      <th>calculated_host_listings_count</th>\n",
              "      <th>availability_365</th>\n",
              "      <th>number_of_reviews_ltm</th>\n",
              "    </tr>\n",
              "  </thead>\n",
              "  <tbody>\n",
              "    <tr>\n",
              "      <th>count</th>\n",
              "      <td>1.059000e+03</td>\n",
              "      <td>1.059000e+03</td>\n",
              "      <td>1059.000000</td>\n",
              "      <td>1059.000000</td>\n",
              "      <td>1059.000000</td>\n",
              "      <td>1059.000000</td>\n",
              "      <td>1059.000000</td>\n",
              "      <td>527.000000</td>\n",
              "      <td>1059.000000</td>\n",
              "      <td>1059.000000</td>\n",
              "      <td>1059.000000</td>\n",
              "    </tr>\n",
              "    <tr>\n",
              "      <th>mean</th>\n",
              "      <td>4.566970e+17</td>\n",
              "      <td>2.725618e+08</td>\n",
              "      <td>34.064340</td>\n",
              "      <td>-118.388640</td>\n",
              "      <td>206.173749</td>\n",
              "      <td>7.563739</td>\n",
              "      <td>13.075543</td>\n",
              "      <td>1.336129</td>\n",
              "      <td>31.282342</td>\n",
              "      <td>257.590179</td>\n",
              "      <td>4.968839</td>\n",
              "    </tr>\n",
              "    <tr>\n",
              "      <th>std</th>\n",
              "      <td>3.535962e+17</td>\n",
              "      <td>1.970258e+08</td>\n",
              "      <td>0.007127</td>\n",
              "      <td>0.009931</td>\n",
              "      <td>149.738304</td>\n",
              "      <td>11.290897</td>\n",
              "      <td>38.144536</td>\n",
              "      <td>1.480429</td>\n",
              "      <td>59.899164</td>\n",
              "      <td>138.602382</td>\n",
              "      <td>11.888660</td>\n",
              "    </tr>\n",
              "    <tr>\n",
              "      <th>min</th>\n",
              "      <td>5.287100e+04</td>\n",
              "      <td>1.560820e+05</td>\n",
              "      <td>34.053070</td>\n",
              "      <td>-118.425870</td>\n",
              "      <td>0.000000</td>\n",
              "      <td>1.000000</td>\n",
              "      <td>0.000000</td>\n",
              "      <td>0.010000</td>\n",
              "      <td>1.000000</td>\n",
              "      <td>0.000000</td>\n",
              "      <td>0.000000</td>\n",
              "    </tr>\n",
              "    <tr>\n",
              "      <th>25%</th>\n",
              "      <td>4.375294e+07</td>\n",
              "      <td>6.314672e+07</td>\n",
              "      <td>34.060025</td>\n",
              "      <td>-118.394272</td>\n",
              "      <td>120.000000</td>\n",
              "      <td>1.000000</td>\n",
              "      <td>0.000000</td>\n",
              "      <td>0.270000</td>\n",
              "      <td>2.000000</td>\n",
              "      <td>133.500000</td>\n",
              "      <td>0.000000</td>\n",
              "    </tr>\n",
              "    <tr>\n",
              "      <th>50%</th>\n",
              "      <td>7.019241e+17</td>\n",
              "      <td>3.032508e+08</td>\n",
              "      <td>34.062280</td>\n",
              "      <td>-118.385248</td>\n",
              "      <td>150.000000</td>\n",
              "      <td>2.000000</td>\n",
              "      <td>0.000000</td>\n",
              "      <td>0.910000</td>\n",
              "      <td>17.000000</td>\n",
              "      <td>342.000000</td>\n",
              "      <td>0.000000</td>\n",
              "    </tr>\n",
              "    <tr>\n",
              "      <th>75%</th>\n",
              "      <td>7.531031e+17</td>\n",
              "      <td>4.842760e+08</td>\n",
              "      <td>34.066150</td>\n",
              "      <td>-118.383851</td>\n",
              "      <td>234.000000</td>\n",
              "      <td>7.000000</td>\n",
              "      <td>7.000000</td>\n",
              "      <td>1.875000</td>\n",
              "      <td>54.000000</td>\n",
              "      <td>365.000000</td>\n",
              "      <td>3.000000</td>\n",
              "    </tr>\n",
              "    <tr>\n",
              "      <th>max</th>\n",
              "      <td>7.740364e+17</td>\n",
              "      <td>4.896686e+08</td>\n",
              "      <td>34.110840</td>\n",
              "      <td>-118.372600</td>\n",
              "      <td>1000.000000</td>\n",
              "      <td>45.000000</td>\n",
              "      <td>421.000000</td>\n",
              "      <td>10.410000</td>\n",
              "      <td>693.000000</td>\n",
              "      <td>365.000000</td>\n",
              "      <td>106.000000</td>\n",
              "    </tr>\n",
              "  </tbody>\n",
              "</table>\n",
              "</div>\n",
              "      <button class=\"colab-df-convert\" onclick=\"convertToInteractive('df-119e9b47-d21a-4318-a235-478219b876f8')\"\n",
              "              title=\"Convert this dataframe to an interactive table.\"\n",
              "              style=\"display:none;\">\n",
              "        \n",
              "  <svg xmlns=\"http://www.w3.org/2000/svg\" height=\"24px\"viewBox=\"0 0 24 24\"\n",
              "       width=\"24px\">\n",
              "    <path d=\"M0 0h24v24H0V0z\" fill=\"none\"/>\n",
              "    <path d=\"M18.56 5.44l.94 2.06.94-2.06 2.06-.94-2.06-.94-.94-2.06-.94 2.06-2.06.94zm-11 1L8.5 8.5l.94-2.06 2.06-.94-2.06-.94L8.5 2.5l-.94 2.06-2.06.94zm10 10l.94 2.06.94-2.06 2.06-.94-2.06-.94-.94-2.06-.94 2.06-2.06.94z\"/><path d=\"M17.41 7.96l-1.37-1.37c-.4-.4-.92-.59-1.43-.59-.52 0-1.04.2-1.43.59L10.3 9.45l-7.72 7.72c-.78.78-.78 2.05 0 2.83L4 21.41c.39.39.9.59 1.41.59.51 0 1.02-.2 1.41-.59l7.78-7.78 2.81-2.81c.8-.78.8-2.07 0-2.86zM5.41 20L4 18.59l7.72-7.72 1.47 1.35L5.41 20z\"/>\n",
              "  </svg>\n",
              "      </button>\n",
              "      \n",
              "  <style>\n",
              "    .colab-df-container {\n",
              "      display:flex;\n",
              "      flex-wrap:wrap;\n",
              "      gap: 12px;\n",
              "    }\n",
              "\n",
              "    .colab-df-convert {\n",
              "      background-color: #E8F0FE;\n",
              "      border: none;\n",
              "      border-radius: 50%;\n",
              "      cursor: pointer;\n",
              "      display: none;\n",
              "      fill: #1967D2;\n",
              "      height: 32px;\n",
              "      padding: 0 0 0 0;\n",
              "      width: 32px;\n",
              "    }\n",
              "\n",
              "    .colab-df-convert:hover {\n",
              "      background-color: #E2EBFA;\n",
              "      box-shadow: 0px 1px 2px rgba(60, 64, 67, 0.3), 0px 1px 3px 1px rgba(60, 64, 67, 0.15);\n",
              "      fill: #174EA6;\n",
              "    }\n",
              "\n",
              "    [theme=dark] .colab-df-convert {\n",
              "      background-color: #3B4455;\n",
              "      fill: #D2E3FC;\n",
              "    }\n",
              "\n",
              "    [theme=dark] .colab-df-convert:hover {\n",
              "      background-color: #434B5C;\n",
              "      box-shadow: 0px 1px 3px 1px rgba(0, 0, 0, 0.15);\n",
              "      filter: drop-shadow(0px 1px 2px rgba(0, 0, 0, 0.3));\n",
              "      fill: #FFFFFF;\n",
              "    }\n",
              "  </style>\n",
              "\n",
              "      <script>\n",
              "        const buttonEl =\n",
              "          document.querySelector('#df-119e9b47-d21a-4318-a235-478219b876f8 button.colab-df-convert');\n",
              "        buttonEl.style.display =\n",
              "          google.colab.kernel.accessAllowed ? 'block' : 'none';\n",
              "\n",
              "        async function convertToInteractive(key) {\n",
              "          const element = document.querySelector('#df-119e9b47-d21a-4318-a235-478219b876f8');\n",
              "          const dataTable =\n",
              "            await google.colab.kernel.invokeFunction('convertToInteractive',\n",
              "                                                     [key], {});\n",
              "          if (!dataTable) return;\n",
              "\n",
              "          const docLinkHtml = 'Like what you see? Visit the ' +\n",
              "            '<a target=\"_blank\" href=https://colab.research.google.com/notebooks/data_table.ipynb>data table notebook</a>'\n",
              "            + ' to learn more about interactive tables.';\n",
              "          element.innerHTML = '';\n",
              "          dataTable['output_type'] = 'display_data';\n",
              "          await google.colab.output.renderOutput(dataTable, element);\n",
              "          const docLink = document.createElement('div');\n",
              "          docLink.innerHTML = docLinkHtml;\n",
              "          element.appendChild(docLink);\n",
              "        }\n",
              "      </script>\n",
              "    </div>\n",
              "  </div>\n",
              "  "
            ]
          },
          "metadata": {},
          "execution_count": 120
        }
      ]
    },
    {
      "cell_type": "markdown",
      "source": [
        "É possível perceber algumas coisas:\n",
        "*\tA média de preço é de 206 dólares\n",
        "*\tA mediana de noites mínimas é de 2 dias\n",
        "*\tA média de noite de mínimas é de 7 dias\n",
        "\n",
        "\n",
        "Isso mostra que Beverly Hills é um bairro mais diversificado na questão de alugueis, contendo imóveis tanto para ferias, finais de semanas e pessoas que precisam de poucos dias para um projeto profissional.\n"
      ],
      "metadata": {
        "id": "xtBvR8XD6Ld3"
      }
    },
    {
      "cell_type": "code",
      "source": [
        "# ver quantidade de imóveis em Beverly Hills\n",
        "print(df_clean[df_clean.neighbourhood == \"Beverly Hills\"].shape)\n",
        "\n",
        "# ver as 5 ultimas entradas\n",
        "df_clean[df_clean.neighbourhood == \"Beverly Hills\"].tail()"
      ],
      "metadata": {
        "colab": {
          "base_uri": "https://localhost:8080/",
          "height": 704
        },
        "id": "i7A4OlJayfVY",
        "outputId": "41184582-8525-48b5-9241-5f144ce0a0e2"
      },
      "execution_count": null,
      "outputs": [
        {
          "output_type": "stream",
          "name": "stdout",
          "text": [
            "(1059, 18)\n"
          ]
        },
        {
          "output_type": "execute_result",
          "data": {
            "text/plain": [
              "                       id                             name    host_id  \\\n",
              "40310  772359232483750159  LA’s Bunk Bed Mixed Shared Room  488655599   \n",
              "40353  773859368129315542   Palace-like BH Home w/ Hot Tub  351601637   \n",
              "40364  774030469064371430  LA’s Bunk Bed Mixed Shared Room  488655599   \n",
              "40366  774033386610297086  LA’s Bunk Bed Mixed Shared Room  488655599   \n",
              "40368  774036442170180417  LA’s Bunk Bed Mixed Shared Room  488655599   \n",
              "\n",
              "      host_name neighbourhood_group  neighbourhood   latitude   longitude  \\\n",
              "40310     Jorge        Other Cities  Beverly Hills  34.057899 -118.385889   \n",
              "40353   Charlie        Other Cities  Beverly Hills  34.061956 -118.375517   \n",
              "40364     Jorge        Other Cities  Beverly Hills  34.058282 -118.384197   \n",
              "40366     Jorge        Other Cities  Beverly Hills  34.060044 -118.386220   \n",
              "40368     Jorge        Other Cities  Beverly Hills  34.058189 -118.384517   \n",
              "\n",
              "             room_type  price  minimum_nights  number_of_reviews last_review  \\\n",
              "40310      Shared room     16               1                  0         NaN   \n",
              "40353  Entire home/apt    675               1                  0         NaN   \n",
              "40364      Shared room     16               1                  0         NaN   \n",
              "40366      Shared room     16               1                  0         NaN   \n",
              "40368      Shared room     16               1                  0         NaN   \n",
              "\n",
              "       reviews_per_month  calculated_host_listings_count  availability_365  \\\n",
              "40310                NaN                              16               365   \n",
              "40353                NaN                              52               359   \n",
              "40364                NaN                              16               364   \n",
              "40366                NaN                              16               361   \n",
              "40368                NaN                              16               365   \n",
              "\n",
              "       number_of_reviews_ltm license  \n",
              "40310                      0     NaN  \n",
              "40353                      0     NaN  \n",
              "40364                      0     NaN  \n",
              "40366                      0     NaN  \n",
              "40368                      0     NaN  "
            ],
            "text/html": [
              "\n",
              "  <div id=\"df-74a0699b-8439-42ea-9184-c7f5665a7f49\">\n",
              "    <div class=\"colab-df-container\">\n",
              "      <div>\n",
              "<style scoped>\n",
              "    .dataframe tbody tr th:only-of-type {\n",
              "        vertical-align: middle;\n",
              "    }\n",
              "\n",
              "    .dataframe tbody tr th {\n",
              "        vertical-align: top;\n",
              "    }\n",
              "\n",
              "    .dataframe thead th {\n",
              "        text-align: right;\n",
              "    }\n",
              "</style>\n",
              "<table border=\"1\" class=\"dataframe\">\n",
              "  <thead>\n",
              "    <tr style=\"text-align: right;\">\n",
              "      <th></th>\n",
              "      <th>id</th>\n",
              "      <th>name</th>\n",
              "      <th>host_id</th>\n",
              "      <th>host_name</th>\n",
              "      <th>neighbourhood_group</th>\n",
              "      <th>neighbourhood</th>\n",
              "      <th>latitude</th>\n",
              "      <th>longitude</th>\n",
              "      <th>room_type</th>\n",
              "      <th>price</th>\n",
              "      <th>minimum_nights</th>\n",
              "      <th>number_of_reviews</th>\n",
              "      <th>last_review</th>\n",
              "      <th>reviews_per_month</th>\n",
              "      <th>calculated_host_listings_count</th>\n",
              "      <th>availability_365</th>\n",
              "      <th>number_of_reviews_ltm</th>\n",
              "      <th>license</th>\n",
              "    </tr>\n",
              "  </thead>\n",
              "  <tbody>\n",
              "    <tr>\n",
              "      <th>40310</th>\n",
              "      <td>772359232483750159</td>\n",
              "      <td>LA’s Bunk Bed Mixed Shared Room</td>\n",
              "      <td>488655599</td>\n",
              "      <td>Jorge</td>\n",
              "      <td>Other Cities</td>\n",
              "      <td>Beverly Hills</td>\n",
              "      <td>34.057899</td>\n",
              "      <td>-118.385889</td>\n",
              "      <td>Shared room</td>\n",
              "      <td>16</td>\n",
              "      <td>1</td>\n",
              "      <td>0</td>\n",
              "      <td>NaN</td>\n",
              "      <td>NaN</td>\n",
              "      <td>16</td>\n",
              "      <td>365</td>\n",
              "      <td>0</td>\n",
              "      <td>NaN</td>\n",
              "    </tr>\n",
              "    <tr>\n",
              "      <th>40353</th>\n",
              "      <td>773859368129315542</td>\n",
              "      <td>Palace-like BH Home w/ Hot Tub</td>\n",
              "      <td>351601637</td>\n",
              "      <td>Charlie</td>\n",
              "      <td>Other Cities</td>\n",
              "      <td>Beverly Hills</td>\n",
              "      <td>34.061956</td>\n",
              "      <td>-118.375517</td>\n",
              "      <td>Entire home/apt</td>\n",
              "      <td>675</td>\n",
              "      <td>1</td>\n",
              "      <td>0</td>\n",
              "      <td>NaN</td>\n",
              "      <td>NaN</td>\n",
              "      <td>52</td>\n",
              "      <td>359</td>\n",
              "      <td>0</td>\n",
              "      <td>NaN</td>\n",
              "    </tr>\n",
              "    <tr>\n",
              "      <th>40364</th>\n",
              "      <td>774030469064371430</td>\n",
              "      <td>LA’s Bunk Bed Mixed Shared Room</td>\n",
              "      <td>488655599</td>\n",
              "      <td>Jorge</td>\n",
              "      <td>Other Cities</td>\n",
              "      <td>Beverly Hills</td>\n",
              "      <td>34.058282</td>\n",
              "      <td>-118.384197</td>\n",
              "      <td>Shared room</td>\n",
              "      <td>16</td>\n",
              "      <td>1</td>\n",
              "      <td>0</td>\n",
              "      <td>NaN</td>\n",
              "      <td>NaN</td>\n",
              "      <td>16</td>\n",
              "      <td>364</td>\n",
              "      <td>0</td>\n",
              "      <td>NaN</td>\n",
              "    </tr>\n",
              "    <tr>\n",
              "      <th>40366</th>\n",
              "      <td>774033386610297086</td>\n",
              "      <td>LA’s Bunk Bed Mixed Shared Room</td>\n",
              "      <td>488655599</td>\n",
              "      <td>Jorge</td>\n",
              "      <td>Other Cities</td>\n",
              "      <td>Beverly Hills</td>\n",
              "      <td>34.060044</td>\n",
              "      <td>-118.386220</td>\n",
              "      <td>Shared room</td>\n",
              "      <td>16</td>\n",
              "      <td>1</td>\n",
              "      <td>0</td>\n",
              "      <td>NaN</td>\n",
              "      <td>NaN</td>\n",
              "      <td>16</td>\n",
              "      <td>361</td>\n",
              "      <td>0</td>\n",
              "      <td>NaN</td>\n",
              "    </tr>\n",
              "    <tr>\n",
              "      <th>40368</th>\n",
              "      <td>774036442170180417</td>\n",
              "      <td>LA’s Bunk Bed Mixed Shared Room</td>\n",
              "      <td>488655599</td>\n",
              "      <td>Jorge</td>\n",
              "      <td>Other Cities</td>\n",
              "      <td>Beverly Hills</td>\n",
              "      <td>34.058189</td>\n",
              "      <td>-118.384517</td>\n",
              "      <td>Shared room</td>\n",
              "      <td>16</td>\n",
              "      <td>1</td>\n",
              "      <td>0</td>\n",
              "      <td>NaN</td>\n",
              "      <td>NaN</td>\n",
              "      <td>16</td>\n",
              "      <td>365</td>\n",
              "      <td>0</td>\n",
              "      <td>NaN</td>\n",
              "    </tr>\n",
              "  </tbody>\n",
              "</table>\n",
              "</div>\n",
              "      <button class=\"colab-df-convert\" onclick=\"convertToInteractive('df-74a0699b-8439-42ea-9184-c7f5665a7f49')\"\n",
              "              title=\"Convert this dataframe to an interactive table.\"\n",
              "              style=\"display:none;\">\n",
              "        \n",
              "  <svg xmlns=\"http://www.w3.org/2000/svg\" height=\"24px\"viewBox=\"0 0 24 24\"\n",
              "       width=\"24px\">\n",
              "    <path d=\"M0 0h24v24H0V0z\" fill=\"none\"/>\n",
              "    <path d=\"M18.56 5.44l.94 2.06.94-2.06 2.06-.94-2.06-.94-.94-2.06-.94 2.06-2.06.94zm-11 1L8.5 8.5l.94-2.06 2.06-.94-2.06-.94L8.5 2.5l-.94 2.06-2.06.94zm10 10l.94 2.06.94-2.06 2.06-.94-2.06-.94-.94-2.06-.94 2.06-2.06.94z\"/><path d=\"M17.41 7.96l-1.37-1.37c-.4-.4-.92-.59-1.43-.59-.52 0-1.04.2-1.43.59L10.3 9.45l-7.72 7.72c-.78.78-.78 2.05 0 2.83L4 21.41c.39.39.9.59 1.41.59.51 0 1.02-.2 1.41-.59l7.78-7.78 2.81-2.81c.8-.78.8-2.07 0-2.86zM5.41 20L4 18.59l7.72-7.72 1.47 1.35L5.41 20z\"/>\n",
              "  </svg>\n",
              "      </button>\n",
              "      \n",
              "  <style>\n",
              "    .colab-df-container {\n",
              "      display:flex;\n",
              "      flex-wrap:wrap;\n",
              "      gap: 12px;\n",
              "    }\n",
              "\n",
              "    .colab-df-convert {\n",
              "      background-color: #E8F0FE;\n",
              "      border: none;\n",
              "      border-radius: 50%;\n",
              "      cursor: pointer;\n",
              "      display: none;\n",
              "      fill: #1967D2;\n",
              "      height: 32px;\n",
              "      padding: 0 0 0 0;\n",
              "      width: 32px;\n",
              "    }\n",
              "\n",
              "    .colab-df-convert:hover {\n",
              "      background-color: #E2EBFA;\n",
              "      box-shadow: 0px 1px 2px rgba(60, 64, 67, 0.3), 0px 1px 3px 1px rgba(60, 64, 67, 0.15);\n",
              "      fill: #174EA6;\n",
              "    }\n",
              "\n",
              "    [theme=dark] .colab-df-convert {\n",
              "      background-color: #3B4455;\n",
              "      fill: #D2E3FC;\n",
              "    }\n",
              "\n",
              "    [theme=dark] .colab-df-convert:hover {\n",
              "      background-color: #434B5C;\n",
              "      box-shadow: 0px 1px 3px 1px rgba(0, 0, 0, 0.15);\n",
              "      filter: drop-shadow(0px 1px 2px rgba(0, 0, 0, 0.3));\n",
              "      fill: #FFFFFF;\n",
              "    }\n",
              "  </style>\n",
              "\n",
              "      <script>\n",
              "        const buttonEl =\n",
              "          document.querySelector('#df-74a0699b-8439-42ea-9184-c7f5665a7f49 button.colab-df-convert');\n",
              "        buttonEl.style.display =\n",
              "          google.colab.kernel.accessAllowed ? 'block' : 'none';\n",
              "\n",
              "        async function convertToInteractive(key) {\n",
              "          const element = document.querySelector('#df-74a0699b-8439-42ea-9184-c7f5665a7f49');\n",
              "          const dataTable =\n",
              "            await google.colab.kernel.invokeFunction('convertToInteractive',\n",
              "                                                     [key], {});\n",
              "          if (!dataTable) return;\n",
              "\n",
              "          const docLinkHtml = 'Like what you see? Visit the ' +\n",
              "            '<a target=\"_blank\" href=https://colab.research.google.com/notebooks/data_table.ipynb>data table notebook</a>'\n",
              "            + ' to learn more about interactive tables.';\n",
              "          element.innerHTML = '';\n",
              "          dataTable['output_type'] = 'display_data';\n",
              "          await google.colab.output.renderOutput(dataTable, element);\n",
              "          const docLink = document.createElement('div');\n",
              "          docLink.innerHTML = docLinkHtml;\n",
              "          element.appendChild(docLink);\n",
              "        }\n",
              "      </script>\n",
              "    </div>\n",
              "  </div>\n",
              "  "
            ]
          },
          "metadata": {},
          "execution_count": 6
        }
      ]
    },
    {
      "cell_type": "markdown",
      "source": [
        "Beverly Hills tem 1059 imóveis para alugar, podemos ver acima alguns shared rooms por 16 dólares a diária, este é o motivo do bairro não aparecer como um dos mais caros de Los Angeles."
      ],
      "metadata": {
        "id": "IWOb2SKJ8O0T"
      }
    },
    {
      "cell_type": "code",
      "metadata": {
        "id": "UxVJqJ_3W59I",
        "colab": {
          "base_uri": "https://localhost:8080/",
          "height": 476
        },
        "outputId": "21233470-501e-4488-ef72-e13baab18228"
      },
      "source": [
        "# plotar os imóveis pela latitude-longitude\n",
        "df_clean.plot(kind=\"scatter\", x=\"longitude\", y=\"latitude\", alpha=0.4, c=df_clean[\"price\"],s=8, \n",
        "              cmap=plt.get_cmap(\"jet\"),figsize=(12,8));"
      ],
      "execution_count": null,
      "outputs": [
        {
          "output_type": "display_data",
          "data": {
            "text/plain": [
              "<Figure size 864x576 with 2 Axes>"
            ],
            "image/png": "[encoded data removed]"
          },
          "metadata": {
            "needs_background": "light"
          }
        }
      ]
    },
    {
      "cell_type": "markdown",
      "source": [
        "Vemos pelo gráfico a disposição dos imóveis, pode-se dizer que Los Angeles em sua área urbana e nas praias nos dá excelentes opções. Sendo possível encontrar o imóvel ideal para todo tipo de ocasião."
      ],
      "metadata": {
        "id": "EDKCVaf289dd"
      }
    },
    {
      "cell_type": "markdown",
      "metadata": {
        "id": "vTneAMRUYvr1"
      },
      "source": [
        "### **Q7. Qual é a média do mínimo de noites para aluguel (minimum_nights)?**"
      ]
    },
    {
      "cell_type": "code",
      "metadata": {
        "id": "_VzNhrEgY82N",
        "colab": {
          "base_uri": "https://localhost:8080/"
        },
        "outputId": "2c51b143-7b20-4786-8d7e-5e4d8f3a5a37"
      },
      "source": [
        "# ver a média da coluna `minimum_nights``\n",
        "\n",
        "df_clean.minimum_nights.mean()"
      ],
      "execution_count": null,
      "outputs": [
        {
          "output_type": "execute_result",
          "data": {
            "text/plain": [
              "16.480048902299448"
            ]
          },
          "metadata": {},
          "execution_count": 26
        }
      ]
    },
    {
      "cell_type": "markdown",
      "source": [
        "Aqui vemos a média para noites mínimas, que é pouco mais que 16 noites. Isto explica a diversidade de Los Angeles, pois os regimes de aluguel mais usados são de 30 dias e 2 dias, ou seja, o final de semana ou o período inteiro de férias.\n"
      ],
      "metadata": {
        "id": "dnHok205950R"
      }
    },
    {
      "cell_type": "markdown",
      "metadata": {
        "id": "GkvAg623RjoR"
      },
      "source": [
        "## Conclusões\n"
      ]
    },
    {
      "cell_type": "markdown",
      "metadata": {
        "id": "rbZ3Hsy9Ypw8"
      },
      "source": [
        "Após a análise dos dados do airbnb para a cidade de Los Angeles chegamos a algumas conclusões:\n",
        "*\tLos Angeles tem uma rica diversidade, podendo atender vários tipos de público, desde os que procuram casas perto da praia, tanto para quem quer uma calmaria maior nas montanhas.\n",
        "*\tAs residências de Los Angeles têm uma variedade de preço muito boa, podendo ser encontrados alugueis para todos. Desde casas luxuosas à beira mar até quartos por 16 dólares a diária para quem precisa passar apenas uma noite na cidade\n",
        "*\tUm dos motivos para ter muitos alugueis por um período acima de 30 dias é que existe uma regulamentação mais rígida para alugueis de curtos períodos de tempo, esta regulamentação é usada para proteger a moradia dos moradores da cidade. Por isso vemos um grande número de alugueis para 2 dias, depois disso o número só volta a aumentar em 30 dias, por conta dessa regulamentação a cidade acabou se adaptando.\n",
        "* Por fim, Los Angeles oferece aos seus visitantes o que eles procuram. Independente do evento que o faça ir até a cidade, ela terá um quarto, casa ou apartamento perfeito para a ocasião.\n"
      ]
    }
  ]
}