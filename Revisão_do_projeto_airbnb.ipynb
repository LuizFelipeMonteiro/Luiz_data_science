{
  "nbformat": 4,
  "nbformat_minor": 0,
  "metadata": {
    "colab": {
      "provenance": [],
      "include_colab_link": true
    },
    "kernelspec": {
      "name": "python3",
      "display_name": "Python 3"
    }
  },
  "cells": [
    {
      "cell_type": "markdown",
      "metadata": {
        "id": "view-in-github",
        "colab_type": "text"
      },
      "source": [
        "<a href=\"https://colab.research.google.com/github/LuizFelipeMonteiro/Luiz_data_science/blob/main/Revis%C3%A3o_do_projeto_airbnb.ipynb\" target=\"_parent\"><img src=\"https://colab.research.google.com/assets/colab-badge.svg\" alt=\"Open In Colab\"/></a>"
      ]
    },
    {
      "cell_type": "markdown",
      "metadata": {
        "id": "kLI0gJtzDGuQ"
      },
      "source": [
        "<img alt=\"Colaboratory logo\" width=\"15%\" src=\"https://raw.githubusercontent.com/carlosfab/escola-data-science/master/img/novo_logo_bg_claro.png\">\n",
        "\n",
        "#### **Data Science na Prática 3.0**\n",
        "*by [sigmoidal.ai](https://sigmoidal.ai)*\n",
        "\n",
        "---\n",
        "\n",
        "\n",
        "\n",
        "# Análise dos Dados do Airbnb - Los Angeles\n",
        "\n",
        "![image.png](https://images.fineartamerica.com/images/artworkimages/mediumlarge/2/los-angeles-skyline-panoramic-kelley-king.jpg)\n",
        "\n",
        "Los Angeles é uma cidade conhecida em todo o mundo como um destino turístico popular, repleta de cultura, história, praias deslumbrantes, atrações icônicas e entretenimento de classe mundial. Como a segunda maior cidade dos Estados Unidos, Los Angeles atrai milhões de visitantes a cada ano, que buscam experiências únicas e inesquecíveis na \"Cidade dos Anjos\".\n",
        "\n",
        "A cidade oferece uma ampla gama de atividades para todos os gostos, desde caminhadas pelas montanhas de Hollywood até compras na famosa Rodeo Drive, de visitas a museus e galerias de arte a shows ao vivo em renomados locais de entretenimento. Além disso, Los Angeles é um destino popular para os amantes de cinema, como a cidade que abriga a indústria cinematográfica de Hollywood.\n",
        "\n",
        "Os viajantes também podem aproveitar as praias ensolaradas e vibrantes, como Santa Monica e Venice Beach, onde se encontram muitos restaurantes, bares e lojas. Los Angeles também é um destino popular para os amantes da gastronomia, com uma variedade de restaurantes de alta qualidade, que oferecem desde culinária internacional até pratos locais e regionais.\n",
        "\n",
        "Com o crescente número de turistas, a indústria do turismo em Los Angeles tem se desenvolvido significativamente nas últimas décadas, tornando-se um dos principais setores econômicos da cidade. Isso também se reflete no mercado de aluguel de residências no Airbnb, que oferece aos visitantes a oportunidade de desfrutar de uma estadia mais autêntica e personalizada em Los Angeles, em comparação aos hotéis convencionais. A análise de residências anunciadas no Airbnb na cidade pode ser uma forma interessante de entender a demanda turística e as preferências dos visitantes em relação às acomodações na cidade.\n",
        "\n",
        "**Regulamentações para alugueis:**\n",
        "* Registro obrigatório: Todos os anfitriões devem se registrar com a cidade de Los Angeles antes de alugarem suas propriedades por meio do Airbnb ou outras plataformas similares.\n",
        "\n",
        "* Limite de dias: Propriedades residenciais inteiras só podem ser alugadas por um máximo de 120 dias por ano. Além disso, os anfitriões precisam respeitar os limites de ocupação, que variam dependendo do tipo de propriedade e localização.\n",
        "\n",
        "* Taxas de hospedagem: Os anfitriões precisam coletar e remeter ao município a taxa de hospedagem (room tax) de 14%, que é aplicada a todas as estadias em Los Angeles.\n",
        "\n",
        "* Inspeção de segurança: A cidade de Los Angeles exige que todas as propriedades listadas no Airbnb passem por uma inspeção de segurança antes de serem registradas. As inspeções verificam se a propriedade está em conformidade com os códigos de construção e segurança da cidade.\n",
        "\n",
        "* Condomínios e Apartamentos: As regras são mais rígidas para aluguel em condomínios e apartamentos, exigindo autorização prévia do proprietário ou do condomínio.\n",
        "\n",
        "<center><img alt=\"Analisando Airbnb\" width=\"10%\" src=\"https://www.area360.com.au/wp-content/uploads/2017/09/airbnb-logo.jpg\"></center>\n",
        "\n",
        "**Neste *notebook*, iremos analisar os dados referentes à cidade Los Angeles, e ver quais insights podem ser extraídos a partir de dados brutos.**"
      ]
    },
    {
      "cell_type": "markdown",
      "metadata": {
        "id": "0zxQHhIUDF_2"
      },
      "source": [
        "## Obtenção dos Dados\n"
      ]
    },
    {
      "cell_type": "code",
      "metadata": {
        "id": "Vhp2wMPgJ6zX"
      },
      "source": [
        "# importar os pacotes necessarios\n",
        "import pandas as pd\n",
        "import matplotlib.pyplot as plt \n",
        "import seaborn as sns\n",
        "\n",
        "%matplotlib inline"
      ],
      "execution_count": 1,
      "outputs": []
    },
    {
      "cell_type": "code",
      "metadata": {
        "id": "tUmoAT8DLQ5T"
      },
      "source": [
        "# importar o arquivo listings.csv para um DataFrame\n",
        "df = pd.read_csv(\"http://data.insideairbnb.com/united-states/ca/los-angeles/2022-12-06/visualisations/listings.csv\")"
      ],
      "execution_count": 2,
      "outputs": []
    },
    {
      "cell_type": "markdown",
      "metadata": {
        "id": "qb5By2nIMS6m"
      },
      "source": [
        "## Análise dos Dados\n"
      ]
    },
    {
      "cell_type": "markdown",
      "metadata": {
        "id": "RYgvuebKNg8-"
      },
      "source": [
        "**Dicionário das variáveis**\n",
        "\n",
        "* id - número usado para identificar o imóvel\n",
        "* name - pessoa ou empresa que está anunciando \n",
        "* host_id - número usado para identificar o proprietário\n",
        "* host_name - nome do proprietário\n",
        "* neighbourhood_group - região\n",
        "* neighbourhood - bairro\n",
        "* latitude - coordenadas\n",
        "* longitude - coordenadas\n",
        "* room_type - tipo de imóvel\n",
        "* price - preço da diária\n",
        "* minimum_nights - mínimo de noites para locação\n",
        "* number_of_reviews - número de avaliações da propriedade\n",
        "* last_reviews - última avaliação\n",
        "* reviews_per_month - avaliações por mês \n",
        "* calculated_host_listings_count - quantidade de imóveis do mesmo anfitrião\n",
        "* availability_365 - número de dias de disponibilidade dentro de 365 dias\n",
        "* number_of_reviews_ltm - avaliação de desempenho dos ultimos 12 meses \n",
        "* license - licença para alugueis\n",
        "\n",
        "\n",
        "\n",
        "Antes de iniciar qualquer análise, vamos verificar a cara do nosso *dataset*, analisando as 5 primeiras entradas."
      ]
    },
    {
      "cell_type": "code",
      "metadata": {
        "id": "2iS_dae7YQtO",
        "colab": {
          "base_uri": "https://localhost:8080/",
          "height": 565
        },
        "outputId": "7eb28fee-427e-48fd-cb49-3a6239a458d5"
      },
      "source": [
        "# mostrar as 5 primeiras entradas\n",
        "df.head()"
      ],
      "execution_count": null,
      "outputs": [
        {
          "output_type": "execute_result",
          "data": {
            "text/plain": [
              "       id                                               name  host_id  \\\n",
              "0     109  Amazing bright elegant condo park front *UPGRA...      521   \n",
              "1    2708  Runyon Canyon | Beau Furn Mirror Mini-Suite Fi...     3008   \n",
              "2    2732                              Zen Life at the Beach     3041   \n",
              "3   65467                       A Luxury Home in Los Angeles    61864   \n",
              "4  206662                 Hollywood & Hiking, 30 day minimum    33861   \n",
              "\n",
              "        host_name  neighbourhood_group         neighbourhood  latitude  \\\n",
              "0           Paolo         Other Cities           Culver City  33.98301   \n",
              "1           Chas.  City of Los Angeles             Hollywood  34.09625   \n",
              "2  Yoga Priestess         Other Cities          Santa Monica  34.00440   \n",
              "3         Olivier         Other Cities           Culver City  34.02438   \n",
              "4           Kevin  City of Los Angeles  Hollywood Hills West  34.10420   \n",
              "\n",
              "   longitude        room_type  price  minimum_nights  number_of_reviews  \\\n",
              "0 -118.38607  Entire home/apt    115              30                  2   \n",
              "1 -118.34605     Private room    118              30                 38   \n",
              "2 -118.48095     Private room    179               7                 24   \n",
              "3 -118.38374     Private room    300              60                  0   \n",
              "4 -118.34748     Private room     46              30                 95   \n",
              "\n",
              "  last_review  reviews_per_month  calculated_host_listings_count  \\\n",
              "0  2016-05-15               0.01                               1   \n",
              "1  2022-11-29               0.37                               2   \n",
              "2  2022-08-21               0.17                               2   \n",
              "3         NaN                NaN                               2   \n",
              "4  2022-08-11               0.71                               1   \n",
              "\n",
              "   availability_365  number_of_reviews_ltm license  \n",
              "0               227                      0     NaN  \n",
              "1               239                      5     NaN  \n",
              "2               365                      3     NaN  \n",
              "3               365                      0     NaN  \n",
              "4                84                      4     NaN  "
            ],
            "text/html": [
              "\n",
              "  <div id=\"df-b76a8ee2-019f-4a86-aecc-802aeb3d7d03\">\n",
              "    <div class=\"colab-df-container\">\n",
              "      <div>\n",
              "<style scoped>\n",
              "    .dataframe tbody tr th:only-of-type {\n",
              "        vertical-align: middle;\n",
              "    }\n",
              "\n",
              "    .dataframe tbody tr th {\n",
              "        vertical-align: top;\n",
              "    }\n",
              "\n",
              "    .dataframe thead th {\n",
              "        text-align: right;\n",
              "    }\n",
              "</style>\n",
              "<table border=\"1\" class=\"dataframe\">\n",
              "  <thead>\n",
              "    <tr style=\"text-align: right;\">\n",
              "      <th></th>\n",
              "      <th>id</th>\n",
              "      <th>name</th>\n",
              "      <th>host_id</th>\n",
              "      <th>host_name</th>\n",
              "      <th>neighbourhood_group</th>\n",
              "      <th>neighbourhood</th>\n",
              "      <th>latitude</th>\n",
              "      <th>longitude</th>\n",
              "      <th>room_type</th>\n",
              "      <th>price</th>\n",
              "      <th>minimum_nights</th>\n",
              "      <th>number_of_reviews</th>\n",
              "      <th>last_review</th>\n",
              "      <th>reviews_per_month</th>\n",
              "      <th>calculated_host_listings_count</th>\n",
              "      <th>availability_365</th>\n",
              "      <th>number_of_reviews_ltm</th>\n",
              "      <th>license</th>\n",
              "    </tr>\n",
              "  </thead>\n",
              "  <tbody>\n",
              "    <tr>\n",
              "      <th>0</th>\n",
              "      <td>109</td>\n",
              "      <td>Amazing bright elegant condo park front *UPGRA...</td>\n",
              "      <td>521</td>\n",
              "      <td>Paolo</td>\n",
              "      <td>Other Cities</td>\n",
              "      <td>Culver City</td>\n",
              "      <td>33.98301</td>\n",
              "      <td>-118.38607</td>\n",
              "      <td>Entire home/apt</td>\n",
              "      <td>115</td>\n",
              "      <td>30</td>\n",
              "      <td>2</td>\n",
              "      <td>2016-05-15</td>\n",
              "      <td>0.01</td>\n",
              "      <td>1</td>\n",
              "      <td>227</td>\n",
              "      <td>0</td>\n",
              "      <td>NaN</td>\n",
              "    </tr>\n",
              "    <tr>\n",
              "      <th>1</th>\n",
              "      <td>2708</td>\n",
              "      <td>Runyon Canyon | Beau Furn Mirror Mini-Suite Fi...</td>\n",
              "      <td>3008</td>\n",
              "      <td>Chas.</td>\n",
              "      <td>City of Los Angeles</td>\n",
              "      <td>Hollywood</td>\n",
              "      <td>34.09625</td>\n",
              "      <td>-118.34605</td>\n",
              "      <td>Private room</td>\n",
              "      <td>118</td>\n",
              "      <td>30</td>\n",
              "      <td>38</td>\n",
              "      <td>2022-11-29</td>\n",
              "      <td>0.37</td>\n",
              "      <td>2</td>\n",
              "      <td>239</td>\n",
              "      <td>5</td>\n",
              "      <td>NaN</td>\n",
              "    </tr>\n",
              "    <tr>\n",
              "      <th>2</th>\n",
              "      <td>2732</td>\n",
              "      <td>Zen Life at the Beach</td>\n",
              "      <td>3041</td>\n",
              "      <td>Yoga Priestess</td>\n",
              "      <td>Other Cities</td>\n",
              "      <td>Santa Monica</td>\n",
              "      <td>34.00440</td>\n",
              "      <td>-118.48095</td>\n",
              "      <td>Private room</td>\n",
              "      <td>179</td>\n",
              "      <td>7</td>\n",
              "      <td>24</td>\n",
              "      <td>2022-08-21</td>\n",
              "      <td>0.17</td>\n",
              "      <td>2</td>\n",
              "      <td>365</td>\n",
              "      <td>3</td>\n",
              "      <td>NaN</td>\n",
              "    </tr>\n",
              "    <tr>\n",
              "      <th>3</th>\n",
              "      <td>65467</td>\n",
              "      <td>A Luxury Home in Los Angeles</td>\n",
              "      <td>61864</td>\n",
              "      <td>Olivier</td>\n",
              "      <td>Other Cities</td>\n",
              "      <td>Culver City</td>\n",
              "      <td>34.02438</td>\n",
              "      <td>-118.38374</td>\n",
              "      <td>Private room</td>\n",
              "      <td>300</td>\n",
              "      <td>60</td>\n",
              "      <td>0</td>\n",
              "      <td>NaN</td>\n",
              "      <td>NaN</td>\n",
              "      <td>2</td>\n",
              "      <td>365</td>\n",
              "      <td>0</td>\n",
              "      <td>NaN</td>\n",
              "    </tr>\n",
              "    <tr>\n",
              "      <th>4</th>\n",
              "      <td>206662</td>\n",
              "      <td>Hollywood &amp; Hiking, 30 day minimum</td>\n",
              "      <td>33861</td>\n",
              "      <td>Kevin</td>\n",
              "      <td>City of Los Angeles</td>\n",
              "      <td>Hollywood Hills West</td>\n",
              "      <td>34.10420</td>\n",
              "      <td>-118.34748</td>\n",
              "      <td>Private room</td>\n",
              "      <td>46</td>\n",
              "      <td>30</td>\n",
              "      <td>95</td>\n",
              "      <td>2022-08-11</td>\n",
              "      <td>0.71</td>\n",
              "      <td>1</td>\n",
              "      <td>84</td>\n",
              "      <td>4</td>\n",
              "      <td>NaN</td>\n",
              "    </tr>\n",
              "  </tbody>\n",
              "</table>\n",
              "</div>\n",
              "      <button class=\"colab-df-convert\" onclick=\"convertToInteractive('df-b76a8ee2-019f-4a86-aecc-802aeb3d7d03')\"\n",
              "              title=\"Convert this dataframe to an interactive table.\"\n",
              "              style=\"display:none;\">\n",
              "        \n",
              "  <svg xmlns=\"http://www.w3.org/2000/svg\" height=\"24px\"viewBox=\"0 0 24 24\"\n",
              "       width=\"24px\">\n",
              "    <path d=\"M0 0h24v24H0V0z\" fill=\"none\"/>\n",
              "    <path d=\"M18.56 5.44l.94 2.06.94-2.06 2.06-.94-2.06-.94-.94-2.06-.94 2.06-2.06.94zm-11 1L8.5 8.5l.94-2.06 2.06-.94-2.06-.94L8.5 2.5l-.94 2.06-2.06.94zm10 10l.94 2.06.94-2.06 2.06-.94-2.06-.94-.94-2.06-.94 2.06-2.06.94z\"/><path d=\"M17.41 7.96l-1.37-1.37c-.4-.4-.92-.59-1.43-.59-.52 0-1.04.2-1.43.59L10.3 9.45l-7.72 7.72c-.78.78-.78 2.05 0 2.83L4 21.41c.39.39.9.59 1.41.59.51 0 1.02-.2 1.41-.59l7.78-7.78 2.81-2.81c.8-.78.8-2.07 0-2.86zM5.41 20L4 18.59l7.72-7.72 1.47 1.35L5.41 20z\"/>\n",
              "  </svg>\n",
              "      </button>\n",
              "      \n",
              "  <style>\n",
              "    .colab-df-container {\n",
              "      display:flex;\n",
              "      flex-wrap:wrap;\n",
              "      gap: 12px;\n",
              "    }\n",
              "\n",
              "    .colab-df-convert {\n",
              "      background-color: #E8F0FE;\n",
              "      border: none;\n",
              "      border-radius: 50%;\n",
              "      cursor: pointer;\n",
              "      display: none;\n",
              "      fill: #1967D2;\n",
              "      height: 32px;\n",
              "      padding: 0 0 0 0;\n",
              "      width: 32px;\n",
              "    }\n",
              "\n",
              "    .colab-df-convert:hover {\n",
              "      background-color: #E2EBFA;\n",
              "      box-shadow: 0px 1px 2px rgba(60, 64, 67, 0.3), 0px 1px 3px 1px rgba(60, 64, 67, 0.15);\n",
              "      fill: #174EA6;\n",
              "    }\n",
              "\n",
              "    [theme=dark] .colab-df-convert {\n",
              "      background-color: #3B4455;\n",
              "      fill: #D2E3FC;\n",
              "    }\n",
              "\n",
              "    [theme=dark] .colab-df-convert:hover {\n",
              "      background-color: #434B5C;\n",
              "      box-shadow: 0px 1px 3px 1px rgba(0, 0, 0, 0.15);\n",
              "      filter: drop-shadow(0px 1px 2px rgba(0, 0, 0, 0.3));\n",
              "      fill: #FFFFFF;\n",
              "    }\n",
              "  </style>\n",
              "\n",
              "      <script>\n",
              "        const buttonEl =\n",
              "          document.querySelector('#df-b76a8ee2-019f-4a86-aecc-802aeb3d7d03 button.colab-df-convert');\n",
              "        buttonEl.style.display =\n",
              "          google.colab.kernel.accessAllowed ? 'block' : 'none';\n",
              "\n",
              "        async function convertToInteractive(key) {\n",
              "          const element = document.querySelector('#df-b76a8ee2-019f-4a86-aecc-802aeb3d7d03');\n",
              "          const dataTable =\n",
              "            await google.colab.kernel.invokeFunction('convertToInteractive',\n",
              "                                                     [key], {});\n",
              "          if (!dataTable) return;\n",
              "\n",
              "          const docLinkHtml = 'Like what you see? Visit the ' +\n",
              "            '<a target=\"_blank\" href=https://colab.research.google.com/notebooks/data_table.ipynb>data table notebook</a>'\n",
              "            + ' to learn more about interactive tables.';\n",
              "          element.innerHTML = '';\n",
              "          dataTable['output_type'] = 'display_data';\n",
              "          await google.colab.output.renderOutput(dataTable, element);\n",
              "          const docLink = document.createElement('div');\n",
              "          docLink.innerHTML = docLinkHtml;\n",
              "          element.appendChild(docLink);\n",
              "        }\n",
              "      </script>\n",
              "    </div>\n",
              "  </div>\n",
              "  "
            ]
          },
          "metadata": {},
          "execution_count": 4
        }
      ]
    },
    {
      "cell_type": "markdown",
      "metadata": {
        "id": "6-B_qtEaYEd-"
      },
      "source": [
        "### **Q1. Quantos atributos (variáveis) e quantas entradas o nosso conjunto de dados possui? Quais os tipos das variáveis?**"
      ]
    },
    {
      "cell_type": "code",
      "metadata": {
        "id": "TFRK0tniLV-G",
        "colab": {
          "base_uri": "https://localhost:8080/",
          "height": 399
        },
        "outputId": "8194d9ca-d8da-4fc9-9f8d-8f326c32cdf8"
      },
      "source": [
        "# identificar o volume de dados do DataFrame\n",
        "print(\"Entradas:\\t {}\".format(df.shape[0]))\n",
        "print(\"Entradas:\\t {}\\n\".format(df.shape[1]))\n",
        "\n",
        "# verificar as 5 primeiras entradas do dataset\n",
        "display(df.dtypes)"
      ],
      "execution_count": null,
      "outputs": [
        {
          "output_type": "stream",
          "name": "stdout",
          "text": [
            "Entradas:\t 40438\n",
            "Entradas:\t 18\n",
            "\n"
          ]
        },
        {
          "output_type": "display_data",
          "data": {
            "text/plain": [
              "id                                  int64\n",
              "name                               object\n",
              "host_id                             int64\n",
              "host_name                          object\n",
              "neighbourhood_group                object\n",
              "neighbourhood                      object\n",
              "latitude                          float64\n",
              "longitude                         float64\n",
              "room_type                          object\n",
              "price                               int64\n",
              "minimum_nights                      int64\n",
              "number_of_reviews                   int64\n",
              "last_review                        object\n",
              "reviews_per_month                 float64\n",
              "calculated_host_listings_count      int64\n",
              "availability_365                    int64\n",
              "number_of_reviews_ltm               int64\n",
              "license                            object\n",
              "dtype: object"
            ]
          },
          "metadata": {}
        }
      ]
    },
    {
      "cell_type": "markdown",
      "metadata": {
        "id": "yz1urSUGW9iE"
      },
      "source": [
        "### **Q2. Qual a porcentagem de valores ausentes no *dataset*?**"
      ]
    },
    {
      "cell_type": "code",
      "metadata": {
        "id": "plk2FjbCXOqP",
        "colab": {
          "base_uri": "https://localhost:8080/"
        },
        "outputId": "2e9d593b-58a2-4671-a5b3-843ebcb169a5"
      },
      "source": [
        "# ordenar em ordem decrescente as variáveis por seus valores ausentes\n",
        "(df.isnull().sum() / df.shape[0]).sort_values(ascending=False)\n"
      ],
      "execution_count": null,
      "outputs": [
        {
          "output_type": "execute_result",
          "data": {
            "text/plain": [
              "license                           0.746229\n",
              "reviews_per_month                 0.261759\n",
              "last_review                       0.261759\n",
              "host_name                         0.000049\n",
              "name                              0.000049\n",
              "minimum_nights                    0.000000\n",
              "number_of_reviews_ltm             0.000000\n",
              "availability_365                  0.000000\n",
              "calculated_host_listings_count    0.000000\n",
              "number_of_reviews                 0.000000\n",
              "id                                0.000000\n",
              "room_type                         0.000000\n",
              "longitude                         0.000000\n",
              "latitude                          0.000000\n",
              "neighbourhood                     0.000000\n",
              "neighbourhood_group               0.000000\n",
              "host_id                           0.000000\n",
              "price                             0.000000\n",
              "dtype: float64"
            ]
          },
          "metadata": {},
          "execution_count": 10
        }
      ]
    },
    {
      "cell_type": "markdown",
      "source": [
        "* \"license\": esta coluna indica se o anfitrião do Airbnb possui ou não uma licença de negócios válida para operar na cidade de Los Angeles. As regulamentações do Airbnb em Los Angeles exigem que todos os anfitriões se registrem e obtenham uma licença de negócios antes de começarem a alugar suas propriedades. Essa licença permite que as autoridades locais monitorem e regulamentem o aluguel de curto prazo na cidade.\n",
        "\n",
        "* \"reviews_per_month\": esta coluna indica a média de avaliações recebidas por um anfitrião por mês. As avaliações são uma parte importante do sistema de classificação do Airbnb e podem afetar a popularidade de um anfitrião e sua propriedade. Uma alta média de avaliações por mês pode indicar que um anfitrião é popular e bem avaliado pelos hóspedes.\n",
        "\n",
        "* \"last_review\": esta coluna indica a data da última avaliação recebida por um anfitrião. A data da última avaliação pode ser um indicador da atividade recente do anfitrião ou da propriedade no Airbnb. Anfitriões que recebem avaliações frequentes e recentes podem ser mais ativos e bem avaliados pelos hóspedes.\n",
        "\n",
        "\n",
        "Vamos proceder com a exclusão destas colunas, elas tem muitos dados faltantes, porém tem um baixo valor preditivo para a analise.\n"
      ],
      "metadata": {
        "id": "TLHaaDP7u9e8"
      }
    },
    {
      "cell_type": "code",
      "source": [
        "# excluindo colunas com dados faltantes\n",
        "df.drop(columns=['reviews_per_month', 'last_review', 'license'], inplace=True)\n",
        "\n",
        "# excluindo entradas com dados faltantes\n",
        "df.dropna(axis=0, inplace=True)\n"
      ],
      "metadata": {
        "id": "kWKVYoPavvCP"
      },
      "execution_count": null,
      "outputs": []
    },
    {
      "cell_type": "code",
      "source": [
        "# verificando o resultado\n",
        "(df.isnull().sum() / df.shape[0]).sort_values(ascending=False)\n"
      ],
      "metadata": {
        "colab": {
          "base_uri": "https://localhost:8080/"
        },
        "id": "GzAloE_NwFCj",
        "outputId": "93046fa3-5473-4532-cbb5-d4a24a7621bd"
      },
      "execution_count": null,
      "outputs": [
        {
          "output_type": "execute_result",
          "data": {
            "text/plain": [
              "id                                0.0\n",
              "name                              0.0\n",
              "host_id                           0.0\n",
              "host_name                         0.0\n",
              "neighbourhood_group               0.0\n",
              "neighbourhood                     0.0\n",
              "latitude                          0.0\n",
              "longitude                         0.0\n",
              "room_type                         0.0\n",
              "price                             0.0\n",
              "minimum_nights                    0.0\n",
              "number_of_reviews                 0.0\n",
              "calculated_host_listings_count    0.0\n",
              "availability_365                  0.0\n",
              "number_of_reviews_ltm             0.0\n",
              "dtype: float64"
            ]
          },
          "metadata": {},
          "execution_count": 16
        }
      ]
    },
    {
      "cell_type": "markdown",
      "source": [
        "**Limpando Outliers**\n",
        "\n",
        "Para tratar dos outliers desse conjunto de dados, iremos analisar a distribuição estatística, plotar boxplots e calcular os limites utilizando a regra do IQR Score.\n",
        "\n",
        "Primeiramente, vamos lembrar o que é o IQR.\n",
        "\n",
        "O IQR é calculado subtraindo o Terceiro Quartil (75%) pelo Primeiro Quartil (25%).\n",
        "\n",
        "IQR = Q3 - Q1\n",
        "Vamos dar uma olhada nos nossos dados e ver o que identificamos.\n",
        "\n",
        "\n",
        "\n"
      ],
      "metadata": {
        "id": "5JgiLDIYwhU2"
      }
    },
    {
      "cell_type": "code",
      "source": [
        "# verificando a distribuição estatística\n",
        "df.describe().round(1)"
      ],
      "metadata": {
        "colab": {
          "base_uri": "https://localhost:8080/",
          "height": 364
        },
        "id": "YPYtdcZhwc80",
        "outputId": "089d771f-a7e2-4ab5-87d0-9de3cb01e903"
      },
      "execution_count": null,
      "outputs": [
        {
          "output_type": "execute_result",
          "data": {
            "text/plain": [
              "                 id      host_id  latitude  longitude    price  \\\n",
              "count  4.043400e+04      40434.0   40434.0    40434.0  40434.0   \n",
              "mean   2.207341e+17  157185973.4      34.1     -118.3    279.5   \n",
              "std    3.207744e+17  155585433.7       0.1        0.2   1136.5   \n",
              "min    1.090000e+02        521.0      33.3     -118.9      0.0   \n",
              "25%    2.487699e+07   23325747.8      34.0     -118.4     85.0   \n",
              "50%    4.705776e+07  102551276.5      34.1     -118.3    138.0   \n",
              "75%    6.201383e+17  265604958.5      34.1     -118.2    235.0   \n",
              "max    7.753168e+17  490257705.0      34.8     -117.7  99999.0   \n",
              "\n",
              "       minimum_nights  number_of_reviews  calculated_host_listings_count  \\\n",
              "count         40434.0            40434.0                         40434.0   \n",
              "mean             18.7               33.6                            32.6   \n",
              "std              31.0               72.7                           114.7   \n",
              "min               1.0                0.0                             1.0   \n",
              "25%               2.0                0.0                             1.0   \n",
              "50%              30.0                5.0                             2.0   \n",
              "75%              30.0               31.0                            10.0   \n",
              "max            1124.0             1924.0                           693.0   \n",
              "\n",
              "       availability_365  number_of_reviews_ltm  \n",
              "count           40434.0                40434.0  \n",
              "mean              198.2                    8.9  \n",
              "std               142.6                   18.8  \n",
              "min                 0.0                    0.0  \n",
              "25%                62.0                    0.0  \n",
              "50%               190.0                    1.0  \n",
              "75%               348.0                    8.0  \n",
              "max               365.0                  801.0  "
            ],
            "text/html": [
              "\n",
              "  <div id=\"df-877d721d-7c31-4893-83bd-10d3187618f8\">\n",
              "    <div class=\"colab-df-container\">\n",
              "      <div>\n",
              "<style scoped>\n",
              "    .dataframe tbody tr th:only-of-type {\n",
              "        vertical-align: middle;\n",
              "    }\n",
              "\n",
              "    .dataframe tbody tr th {\n",
              "        vertical-align: top;\n",
              "    }\n",
              "\n",
              "    .dataframe thead th {\n",
              "        text-align: right;\n",
              "    }\n",
              "</style>\n",
              "<table border=\"1\" class=\"dataframe\">\n",
              "  <thead>\n",
              "    <tr style=\"text-align: right;\">\n",
              "      <th></th>\n",
              "      <th>id</th>\n",
              "      <th>host_id</th>\n",
              "      <th>latitude</th>\n",
              "      <th>longitude</th>\n",
              "      <th>price</th>\n",
              "      <th>minimum_nights</th>\n",
              "      <th>number_of_reviews</th>\n",
              "      <th>calculated_host_listings_count</th>\n",
              "      <th>availability_365</th>\n",
              "      <th>number_of_reviews_ltm</th>\n",
              "    </tr>\n",
              "  </thead>\n",
              "  <tbody>\n",
              "    <tr>\n",
              "      <th>count</th>\n",
              "      <td>4.043400e+04</td>\n",
              "      <td>40434.0</td>\n",
              "      <td>40434.0</td>\n",
              "      <td>40434.0</td>\n",
              "      <td>40434.0</td>\n",
              "      <td>40434.0</td>\n",
              "      <td>40434.0</td>\n",
              "      <td>40434.0</td>\n",
              "      <td>40434.0</td>\n",
              "      <td>40434.0</td>\n",
              "    </tr>\n",
              "    <tr>\n",
              "      <th>mean</th>\n",
              "      <td>2.207341e+17</td>\n",
              "      <td>157185973.4</td>\n",
              "      <td>34.1</td>\n",
              "      <td>-118.3</td>\n",
              "      <td>279.5</td>\n",
              "      <td>18.7</td>\n",
              "      <td>33.6</td>\n",
              "      <td>32.6</td>\n",
              "      <td>198.2</td>\n",
              "      <td>8.9</td>\n",
              "    </tr>\n",
              "    <tr>\n",
              "      <th>std</th>\n",
              "      <td>3.207744e+17</td>\n",
              "      <td>155585433.7</td>\n",
              "      <td>0.1</td>\n",
              "      <td>0.2</td>\n",
              "      <td>1136.5</td>\n",
              "      <td>31.0</td>\n",
              "      <td>72.7</td>\n",
              "      <td>114.7</td>\n",
              "      <td>142.6</td>\n",
              "      <td>18.8</td>\n",
              "    </tr>\n",
              "    <tr>\n",
              "      <th>min</th>\n",
              "      <td>1.090000e+02</td>\n",
              "      <td>521.0</td>\n",
              "      <td>33.3</td>\n",
              "      <td>-118.9</td>\n",
              "      <td>0.0</td>\n",
              "      <td>1.0</td>\n",
              "      <td>0.0</td>\n",
              "      <td>1.0</td>\n",
              "      <td>0.0</td>\n",
              "      <td>0.0</td>\n",
              "    </tr>\n",
              "    <tr>\n",
              "      <th>25%</th>\n",
              "      <td>2.487699e+07</td>\n",
              "      <td>23325747.8</td>\n",
              "      <td>34.0</td>\n",
              "      <td>-118.4</td>\n",
              "      <td>85.0</td>\n",
              "      <td>2.0</td>\n",
              "      <td>0.0</td>\n",
              "      <td>1.0</td>\n",
              "      <td>62.0</td>\n",
              "      <td>0.0</td>\n",
              "    </tr>\n",
              "    <tr>\n",
              "      <th>50%</th>\n",
              "      <td>4.705776e+07</td>\n",
              "      <td>102551276.5</td>\n",
              "      <td>34.1</td>\n",
              "      <td>-118.3</td>\n",
              "      <td>138.0</td>\n",
              "      <td>30.0</td>\n",
              "      <td>5.0</td>\n",
              "      <td>2.0</td>\n",
              "      <td>190.0</td>\n",
              "      <td>1.0</td>\n",
              "    </tr>\n",
              "    <tr>\n",
              "      <th>75%</th>\n",
              "      <td>6.201383e+17</td>\n",
              "      <td>265604958.5</td>\n",
              "      <td>34.1</td>\n",
              "      <td>-118.2</td>\n",
              "      <td>235.0</td>\n",
              "      <td>30.0</td>\n",
              "      <td>31.0</td>\n",
              "      <td>10.0</td>\n",
              "      <td>348.0</td>\n",
              "      <td>8.0</td>\n",
              "    </tr>\n",
              "    <tr>\n",
              "      <th>max</th>\n",
              "      <td>7.753168e+17</td>\n",
              "      <td>490257705.0</td>\n",
              "      <td>34.8</td>\n",
              "      <td>-117.7</td>\n",
              "      <td>99999.0</td>\n",
              "      <td>1124.0</td>\n",
              "      <td>1924.0</td>\n",
              "      <td>693.0</td>\n",
              "      <td>365.0</td>\n",
              "      <td>801.0</td>\n",
              "    </tr>\n",
              "  </tbody>\n",
              "</table>\n",
              "</div>\n",
              "      <button class=\"colab-df-convert\" onclick=\"convertToInteractive('df-877d721d-7c31-4893-83bd-10d3187618f8')\"\n",
              "              title=\"Convert this dataframe to an interactive table.\"\n",
              "              style=\"display:none;\">\n",
              "        \n",
              "  <svg xmlns=\"http://www.w3.org/2000/svg\" height=\"24px\"viewBox=\"0 0 24 24\"\n",
              "       width=\"24px\">\n",
              "    <path d=\"M0 0h24v24H0V0z\" fill=\"none\"/>\n",
              "    <path d=\"M18.56 5.44l.94 2.06.94-2.06 2.06-.94-2.06-.94-.94-2.06-.94 2.06-2.06.94zm-11 1L8.5 8.5l.94-2.06 2.06-.94-2.06-.94L8.5 2.5l-.94 2.06-2.06.94zm10 10l.94 2.06.94-2.06 2.06-.94-2.06-.94-.94-2.06-.94 2.06-2.06.94z\"/><path d=\"M17.41 7.96l-1.37-1.37c-.4-.4-.92-.59-1.43-.59-.52 0-1.04.2-1.43.59L10.3 9.45l-7.72 7.72c-.78.78-.78 2.05 0 2.83L4 21.41c.39.39.9.59 1.41.59.51 0 1.02-.2 1.41-.59l7.78-7.78 2.81-2.81c.8-.78.8-2.07 0-2.86zM5.41 20L4 18.59l7.72-7.72 1.47 1.35L5.41 20z\"/>\n",
              "  </svg>\n",
              "      </button>\n",
              "      \n",
              "  <style>\n",
              "    .colab-df-container {\n",
              "      display:flex;\n",
              "      flex-wrap:wrap;\n",
              "      gap: 12px;\n",
              "    }\n",
              "\n",
              "    .colab-df-convert {\n",
              "      background-color: #E8F0FE;\n",
              "      border: none;\n",
              "      border-radius: 50%;\n",
              "      cursor: pointer;\n",
              "      display: none;\n",
              "      fill: #1967D2;\n",
              "      height: 32px;\n",
              "      padding: 0 0 0 0;\n",
              "      width: 32px;\n",
              "    }\n",
              "\n",
              "    .colab-df-convert:hover {\n",
              "      background-color: #E2EBFA;\n",
              "      box-shadow: 0px 1px 2px rgba(60, 64, 67, 0.3), 0px 1px 3px 1px rgba(60, 64, 67, 0.15);\n",
              "      fill: #174EA6;\n",
              "    }\n",
              "\n",
              "    [theme=dark] .colab-df-convert {\n",
              "      background-color: #3B4455;\n",
              "      fill: #D2E3FC;\n",
              "    }\n",
              "\n",
              "    [theme=dark] .colab-df-convert:hover {\n",
              "      background-color: #434B5C;\n",
              "      box-shadow: 0px 1px 3px 1px rgba(0, 0, 0, 0.15);\n",
              "      filter: drop-shadow(0px 1px 2px rgba(0, 0, 0, 0.3));\n",
              "      fill: #FFFFFF;\n",
              "    }\n",
              "  </style>\n",
              "\n",
              "      <script>\n",
              "        const buttonEl =\n",
              "          document.querySelector('#df-877d721d-7c31-4893-83bd-10d3187618f8 button.colab-df-convert');\n",
              "        buttonEl.style.display =\n",
              "          google.colab.kernel.accessAllowed ? 'block' : 'none';\n",
              "\n",
              "        async function convertToInteractive(key) {\n",
              "          const element = document.querySelector('#df-877d721d-7c31-4893-83bd-10d3187618f8');\n",
              "          const dataTable =\n",
              "            await google.colab.kernel.invokeFunction('convertToInteractive',\n",
              "                                                     [key], {});\n",
              "          if (!dataTable) return;\n",
              "\n",
              "          const docLinkHtml = 'Like what you see? Visit the ' +\n",
              "            '<a target=\"_blank\" href=https://colab.research.google.com/notebooks/data_table.ipynb>data table notebook</a>'\n",
              "            + ' to learn more about interactive tables.';\n",
              "          element.innerHTML = '';\n",
              "          dataTable['output_type'] = 'display_data';\n",
              "          await google.colab.output.renderOutput(dataTable, element);\n",
              "          const docLink = document.createElement('div');\n",
              "          docLink.innerHTML = docLinkHtml;\n",
              "          element.appendChild(docLink);\n",
              "        }\n",
              "      </script>\n",
              "    </div>\n",
              "  </div>\n",
              "  "
            ]
          },
          "metadata": {},
          "execution_count": 18
        }
      ]
    },
    {
      "cell_type": "markdown",
      "source": [
        "Podemos perceber algumas coisas com estas informações:\n",
        "\n",
        "* A coluna price tem o mínimo em 0.\n",
        "* Lembrando que a coluna price trata do preço da diária dos imóveis em dolar, vemos que o Q3 está em 235 dólares, mas o máximo está em 99999 mil dórales. Vamos tratar este outliers.\n",
        "* A coluna minimum_nights tem 1124 noites como maximo, sendo que o Q3 está em 30. Vamos tratar estes outliers também.\n",
        "* As colunas number_of_reviews, *calculated_host_listings_coun*t,  *availability_365* e *number_of_reviews_ltm* também devem conter outliers, mas como são menos relevantes, não daremos tanta atenção."
      ],
      "metadata": {
        "id": "VJs79w0Zw-uj"
      }
    },
    {
      "cell_type": "markdown",
      "metadata": {
        "id": "iHXvvHIxaoNc"
      },
      "source": [
        "### **Q3. Qual o tipo de distribuição das variáveis?** "
      ]
    },
    {
      "cell_type": "code",
      "metadata": {
        "id": "q2wWSfeRbmBo",
        "colab": {
          "base_uri": "https://localhost:8080/",
          "height": 879
        },
        "outputId": "723516d4-aa1c-4192-d9fb-7cbf28902106"
      },
      "source": [
        "# plotar o histograma das variáveis numéricas\n",
        "df.hist(bins=15, figsize=(20,15));\n"
      ],
      "execution_count": null,
      "outputs": [
        {
          "output_type": "display_data",
          "data": {
            "text/plain": [
              "<Figure size 1440x1080 with 12 Axes>"
            ],
            "image/png": "[encoded data removed]"
          },
          "metadata": {
            "needs_background": "light"
          }
        }
      ]
    },
    {
      "cell_type": "markdown",
      "source": [
        "Verificando os histogramas, vemos claramente que existem outliers, principalmente em *price* e *minimum_nights*. Para tratá-los vamos seguir os seguintes passos:\n",
        "\n",
        "* Definir o Q1 e Q3 para as variáveis que serão limpas.\n",
        "* Calcular o IQR para as variáveis.\n",
        "* Definir o limite superior e inferior para cortar os outliers.\n",
        "* Remover os outliers."
      ],
      "metadata": {
        "id": "699KdjTb020o"
      }
    },
    {
      "cell_type": "code",
      "source": [
        "# identificando os outliers para a coluna price\n",
        "q1_price = df.price.quantile(.25)\n",
        "q3_price = df.price.quantile(.75)\n",
        "IQR_price = q3_price - q1_price\n",
        "print('IQR da variável price: ', IQR_price)\n",
        "\n",
        "# definindo os limites                                       \n",
        "sup_price = q3_price + 1.5 * IQR_price\n",
        "inf_price = q1_price - 1.5 * IQR_price\n",
        "\n",
        "print('Limite superior de price: ', sup_price)\n",
        "print('Limite inferior de price: ', inf_price)"
      ],
      "metadata": {
        "colab": {
          "base_uri": "https://localhost:8080/"
        },
        "id": "ZQkTSz4l054c",
        "outputId": "456a3c86-f7f3-4447-f9b2-55146f045003"
      },
      "execution_count": null,
      "outputs": [
        {
          "output_type": "stream",
          "name": "stdout",
          "text": [
            "IQR da variável price:  150.0\n",
            "Limite superior de price:  460.0\n",
            "Limite inferior de price:  -140.0\n"
          ]
        }
      ]
    },
    {
      "cell_type": "markdown",
      "source": [
        "Aqui vemos que não há outliers na parte inferior, mas ainda temos valores iguais a zero. \n",
        "\n",
        "Vamos plotar um boxplot para vermos estes dados. "
      ],
      "metadata": {
        "id": "AwomrZCw2UJH"
      }
    },
    {
      "cell_type": "code",
      "source": [
        "# verificando o conjunto original\n",
        "fig, ax = plt.subplots(figsize=(15,3))\n",
        "df.price.plot(kind='box', vert=False);\n",
        "ax.set_title('Dataset Original - price')\n",
        "plt.show()\n",
        "print(\"O dataset possui {} colunas\".format(df.shape[0]))\n",
        "print(\"{} Entradas acima de 460\".format(len(df[df.price > 460])))\n",
        "print(\"Representam {:.2f}% do dataset\".format((len(df[df.price > 460]) / df.shape[0])*100))"
      ],
      "metadata": {
        "colab": {
          "base_uri": "https://localhost:8080/",
          "height": 279
        },
        "id": "POuVGD2f2zF1",
        "outputId": "66429683-7e49-4cc7-b3d9-c5d997cc64f2"
      },
      "execution_count": null,
      "outputs": [
        {
          "output_type": "display_data",
          "data": {
            "text/plain": [
              "<Figure size 1080x216 with 1 Axes>"
            ],
            "image/png": "[encoded data removed]"
          },
          "metadata": {
            "needs_background": "light"
          }
        },
        {
          "output_type": "stream",
          "name": "stdout",
          "text": [
            "O dataset possui 40434 colunas\n",
            "3931 Entradas acima de 460\n",
            "Representam 9.72% do dataset\n"
          ]
        }
      ]
    },
    {
      "cell_type": "markdown",
      "source": [
        "Teremos que remover os dados que forem igual a 0, pois não existem alugueis de graça. Também vamos remover dados acima do limite superior de 460 dolares, seguindo com o metodo IQR.\n",
        "\n",
        "Mas antes de prosseguir com exclusão, vamos identificar os outlaiers da coluna minimim_nights."
      ],
      "metadata": {
        "id": "4TzN4RQJ3AWl"
      }
    },
    {
      "cell_type": "code",
      "source": [
        "# identificando os outliers para a variável minimum_nights\n",
        "q1_minimum_nights = df.minimum_nights.quantile(.25)\n",
        "q3_minimum_nights = df.minimum_nights.quantile(.75)\n",
        "IQR_minimum_nights = q3_minimum_nights - q1_minimum_nights\n",
        "print('IQR da variável minimum_nights: ', IQR_minimum_nights)\n",
        "\n",
        "# definindo os limites                                       \n",
        "sup_minimum_nights = q3_minimum_nights + 1.5 * IQR_minimum_nights\n",
        "inf_minimum_nights = q1_minimum_nights - 1.5 * IQR_minimum_nights\n",
        "\n",
        "print('Limite superior de minimum_nights: ', sup_minimum_nights)\n",
        "print('Limite inferior de minimum_nights: ', inf_minimum_nights)"
      ],
      "metadata": {
        "colab": {
          "base_uri": "https://localhost:8080/"
        },
        "id": "HeBPyMQm3jD6",
        "outputId": "ba1f3732-2871-429a-930c-90d8e5bf2f8f"
      },
      "execution_count": null,
      "outputs": [
        {
          "output_type": "stream",
          "name": "stdout",
          "text": [
            "IQR da variável minimum_nights:  28.0\n",
            "Limite superior de minimum_nights:  72.0\n",
            "Limite inferior de minimum_nights:  -40.0\n"
          ]
        }
      ]
    },
    {
      "cell_type": "code",
      "source": [
        "# verificando o conjunto original\n",
        "fig, ax = plt.subplots(figsize=(15,3))\n",
        "df.minimum_nights.plot(kind='box', vert=False);\n",
        "ax.set_title('Dataset Original - minimum_nights')\n",
        "plt.show()\n",
        "print(\"O dataset possui {} colunas\".format(df.shape[0]))\n",
        "print(\"{} Entradas acima de 72\".format(len(df[df.minimum_nights > 72])))\n",
        "print(\"Representam {:.2f}% do dataset\".format((len(df[df.minimum_nights > 72]) / df.shape[0])*100))"
      ],
      "metadata": {
        "colab": {
          "base_uri": "https://localhost:8080/",
          "height": 279
        },
        "id": "zhjdYvJO4Ez0",
        "outputId": "57f6a7d7-a1eb-48cb-9dc3-a722266c8669"
      },
      "execution_count": null,
      "outputs": [
        {
          "output_type": "display_data",
          "data": {
            "text/plain": [
              "<Figure size 1080x216 with 1 Axes>"
            ],
            "image/png": "[encoded data removed]"
          },
          "metadata": {
            "needs_background": "light"
          }
        },
        {
          "output_type": "stream",
          "name": "stdout",
          "text": [
            "O dataset possui 40434 colunas\n",
            "453 Entradas acima de 72\n",
            "Representam 1.12% do dataset\n"
          ]
        }
      ]
    },
    {
      "cell_type": "code",
      "source": [
        "# limpando o dataset\n",
        "df_clean = df.copy()\n",
        "\n",
        "df_clean.drop(df_clean[df_clean.price > 460].index, axis=0, inplace=True)\n",
        "df_clean.drop(df_clean[df_clean.price == 0.0].index, axis=0, inplace=True)\n",
        "df_clean.drop(df_clean[df_clean.minimum_nights > 72].index, axis=0, inplace=True)\n",
        "\n",
        "print('Shape antes da limpeza: ', df.shape)\n",
        "print('Shape após a limpeza: ',df_clean.shape)"
      ],
      "metadata": {
        "colab": {
          "base_uri": "https://localhost:8080/"
        },
        "id": "vWicWgia8d4u",
        "outputId": "9c5db031-6f31-4132-f80f-2e867fe6a145"
      },
      "execution_count": 3,
      "outputs": [
        {
          "output_type": "stream",
          "name": "stdout",
          "text": [
            "Shape antes da limpeza:  (40438, 18)\n",
            "Shape após a limpeza:  (36092, 18)\n"
          ]
        }
      ]
    },
    {
      "cell_type": "code",
      "source": [
        "# plotando novamente o boxplot original\n",
        "fig, ax = plt.subplots(figsize=(15,3))\n",
        "df.price.plot(kind='box', vert=False);\n",
        "ax.set_title('Dataset Original - price')\n",
        "plt.show()\n",
        "print(\"O dataset possui {} colunas\".format(df.shape[0]))\n",
        "print(\"{} Entradas acima de 460\".format(len(df[df.price > 460])))\n",
        "print(\"Representam {:.2f}% do dataset\".format((len(df[df.price > 460]) / df.shape[0])*100))\n",
        "\n",
        "\n",
        "fig, ax = plt.subplots(figsize=(15,3))\n",
        "df.minimum_nights.plot(kind='box', vert=False);\n",
        "ax.set_title('Dataset Original - minimum_nights')\n",
        "plt.show()\n",
        "print(\"O dataset possui {} colunas\".format(df.shape[0]))\n",
        "print(\"{} Entradas acima de 72\".format(len(df[df.minimum_nights > 72])))\n",
        "print(\"Representam {:.2f}% do dataset\".format((len(df[df.minimum_nights > 72]) / df.shape[0])*100))"
      ],
      "metadata": {
        "colab": {
          "base_uri": "https://localhost:8080/",
          "height": 541
        },
        "id": "TSntLmsr8kEV",
        "outputId": "f01d8f97-d84f-4535-9934-fe1791e32a67"
      },
      "execution_count": null,
      "outputs": [
        {
          "output_type": "display_data",
          "data": {
            "text/plain": [
              "<Figure size 1080x216 with 1 Axes>"
            ],
            "image/png": "[encoded data removed]"
          },
          "metadata": {
            "needs_background": "light"
          }
        },
        {
          "output_type": "stream",
          "name": "stdout",
          "text": [
            "O dataset possui 40434 colunas\n",
            "3931 Entradas acima de 460\n",
            "Representam 9.72% do dataset\n"
          ]
        },
        {
          "output_type": "display_data",
          "data": {
            "text/plain": [
              "<Figure size 1080x216 with 1 Axes>"
            ],
            "image/png": "[encoded data removed]"
          },
          "metadata": {
            "needs_background": "light"
          }
        },
        {
          "output_type": "stream",
          "name": "stdout",
          "text": [
            "O dataset possui 40434 colunas\n",
            "453 Entradas acima de 72\n",
            "Representam 1.12% do dataset\n"
          ]
        }
      ]
    },
    {
      "cell_type": "code",
      "source": [
        "# verificando o conjunto limpo\n",
        "fig, ax = plt.subplots(figsize=(15,3))\n",
        "df_clean.price.plot(kind='box', vert=False);\n",
        "ax.set_title('Dataset Original - price')\n",
        "plt.show()\n",
        "print(\"O dataset possui {} colunas\".format(df_clean.shape[0]))\n",
        "print(\"{} Entradas acima de 460\".format(len(df_clean[df_clean.price > 460])))\n",
        "print(\"Representam {:.2f}% do dataset\".format((len(df_clean[df_clean.price > 460]) / df_clean.shape[0])*100))\n",
        "\n",
        "\n",
        "fig, ax = plt.subplots(figsize=(15,3))\n",
        "df_clean.minimum_nights.plot(kind='box', vert=False);\n",
        "ax.set_title('Dataset Original - minimum_nights')\n",
        "plt.show()\n",
        "print(\"O dataset possui {} colunas\".format(df_clean.shape[0]))\n",
        "print(\"{} Entradas acima de 72\".format(len(df_clean[df_clean.minimum_nights > 72])))\n",
        "print(\"Representam {:.2f}% do dataset\".format((len(df_clean[df_clean.minimum_nights > 72]) / df_clean.shape[0])*100))"
      ],
      "metadata": {
        "colab": {
          "base_uri": "https://localhost:8080/",
          "height": 541
        },
        "id": "Y1ffsqzT8kSY",
        "outputId": "56372887-8e1a-4946-91cd-d5eb6fceeb6f"
      },
      "execution_count": null,
      "outputs": [
        {
          "output_type": "display_data",
          "data": {
            "text/plain": [
              "<Figure size 1080x216 with 1 Axes>"
            ],
            "image/png": "[encoded data removed]"
          },
          "metadata": {
            "needs_background": "light"
          }
        },
        {
          "output_type": "stream",
          "name": "stdout",
          "text": [
            "O dataset possui 36088 colunas\n",
            "0 Entradas acima de 460\n",
            "Representam 0.00% do dataset\n"
          ]
        },
        {
          "output_type": "display_data",
          "data": {
            "text/plain": [
              "<Figure size 1080x216 with 1 Axes>"
            ],
            "image/png": "[encoded data removed]"
          },
          "metadata": {
            "needs_background": "light"
          }
        },
        {
          "output_type": "stream",
          "name": "stdout",
          "text": [
            "O dataset possui 36088 colunas\n",
            "0 Entradas acima de 72\n",
            "Representam 0.00% do dataset\n"
          ]
        }
      ]
    },
    {
      "cell_type": "code",
      "source": [
        "df_clean.hist(bins=15, figsize=(20,15));"
      ],
      "metadata": {
        "colab": {
          "base_uri": "https://localhost:8080/",
          "height": 879
        },
        "id": "uugpbUaK895T",
        "outputId": "b7689973-4d3a-46da-fef5-e26847a66154"
      },
      "execution_count": null,
      "outputs": [
        {
          "output_type": "display_data",
          "data": {
            "text/plain": [
              "<Figure size 1440x1080 with 12 Axes>"
            ],
            "image/png": "[encoded data removed]"
          },
          "metadata": {
            "needs_background": "light"
          }
        }
      ]
    },
    {
      "cell_type": "code",
      "source": [
        "df_clean[['price', 'minimum_nights']].describe().round(1)"
      ],
      "metadata": {
        "colab": {
          "base_uri": "https://localhost:8080/",
          "height": 300
        },
        "id": "qiGTy1EA9FgA",
        "outputId": "a2855292-acb0-4c38-bc96-fe1d49f45f13"
      },
      "execution_count": 6,
      "outputs": [
        {
          "output_type": "execute_result",
          "data": {
            "text/plain": [
              "         price  minimum_nights\n",
              "count  36092.0         36092.0\n",
              "mean     149.4            16.9\n",
              "std       92.8            14.3\n",
              "min       10.0             1.0\n",
              "25%       80.0             2.0\n",
              "50%      125.0            30.0\n",
              "75%      196.0            30.0\n",
              "max      460.0            63.0"
            ],
            "text/html": [
              "\n",
              "  <div id=\"df-195b0935-57ad-41af-8ba2-be4aa0a99f9b\">\n",
              "    <div class=\"colab-df-container\">\n",
              "      <div>\n",
              "<style scoped>\n",
              "    .dataframe tbody tr th:only-of-type {\n",
              "        vertical-align: middle;\n",
              "    }\n",
              "\n",
              "    .dataframe tbody tr th {\n",
              "        vertical-align: top;\n",
              "    }\n",
              "\n",
              "    .dataframe thead th {\n",
              "        text-align: right;\n",
              "    }\n",
              "</style>\n",
              "<table border=\"1\" class=\"dataframe\">\n",
              "  <thead>\n",
              "    <tr style=\"text-align: right;\">\n",
              "      <th></th>\n",
              "      <th>price</th>\n",
              "      <th>minimum_nights</th>\n",
              "    </tr>\n",
              "  </thead>\n",
              "  <tbody>\n",
              "    <tr>\n",
              "      <th>count</th>\n",
              "      <td>36092.0</td>\n",
              "      <td>36092.0</td>\n",
              "    </tr>\n",
              "    <tr>\n",
              "      <th>mean</th>\n",
              "      <td>149.4</td>\n",
              "      <td>16.9</td>\n",
              "    </tr>\n",
              "    <tr>\n",
              "      <th>std</th>\n",
              "      <td>92.8</td>\n",
              "      <td>14.3</td>\n",
              "    </tr>\n",
              "    <tr>\n",
              "      <th>min</th>\n",
              "      <td>10.0</td>\n",
              "      <td>1.0</td>\n",
              "    </tr>\n",
              "    <tr>\n",
              "      <th>25%</th>\n",
              "      <td>80.0</td>\n",
              "      <td>2.0</td>\n",
              "    </tr>\n",
              "    <tr>\n",
              "      <th>50%</th>\n",
              "      <td>125.0</td>\n",
              "      <td>30.0</td>\n",
              "    </tr>\n",
              "    <tr>\n",
              "      <th>75%</th>\n",
              "      <td>196.0</td>\n",
              "      <td>30.0</td>\n",
              "    </tr>\n",
              "    <tr>\n",
              "      <th>max</th>\n",
              "      <td>460.0</td>\n",
              "      <td>63.0</td>\n",
              "    </tr>\n",
              "  </tbody>\n",
              "</table>\n",
              "</div>\n",
              "      <button class=\"colab-df-convert\" onclick=\"convertToInteractive('df-195b0935-57ad-41af-8ba2-be4aa0a99f9b')\"\n",
              "              title=\"Convert this dataframe to an interactive table.\"\n",
              "              style=\"display:none;\">\n",
              "        \n",
              "  <svg xmlns=\"http://www.w3.org/2000/svg\" height=\"24px\"viewBox=\"0 0 24 24\"\n",
              "       width=\"24px\">\n",
              "    <path d=\"M0 0h24v24H0V0z\" fill=\"none\"/>\n",
              "    <path d=\"M18.56 5.44l.94 2.06.94-2.06 2.06-.94-2.06-.94-.94-2.06-.94 2.06-2.06.94zm-11 1L8.5 8.5l.94-2.06 2.06-.94-2.06-.94L8.5 2.5l-.94 2.06-2.06.94zm10 10l.94 2.06.94-2.06 2.06-.94-2.06-.94-.94-2.06-.94 2.06-2.06.94z\"/><path d=\"M17.41 7.96l-1.37-1.37c-.4-.4-.92-.59-1.43-.59-.52 0-1.04.2-1.43.59L10.3 9.45l-7.72 7.72c-.78.78-.78 2.05 0 2.83L4 21.41c.39.39.9.59 1.41.59.51 0 1.02-.2 1.41-.59l7.78-7.78 2.81-2.81c.8-.78.8-2.07 0-2.86zM5.41 20L4 18.59l7.72-7.72 1.47 1.35L5.41 20z\"/>\n",
              "  </svg>\n",
              "      </button>\n",
              "      \n",
              "  <style>\n",
              "    .colab-df-container {\n",
              "      display:flex;\n",
              "      flex-wrap:wrap;\n",
              "      gap: 12px;\n",
              "    }\n",
              "\n",
              "    .colab-df-convert {\n",
              "      background-color: #E8F0FE;\n",
              "      border: none;\n",
              "      border-radius: 50%;\n",
              "      cursor: pointer;\n",
              "      display: none;\n",
              "      fill: #1967D2;\n",
              "      height: 32px;\n",
              "      padding: 0 0 0 0;\n",
              "      width: 32px;\n",
              "    }\n",
              "\n",
              "    .colab-df-convert:hover {\n",
              "      background-color: #E2EBFA;\n",
              "      box-shadow: 0px 1px 2px rgba(60, 64, 67, 0.3), 0px 1px 3px 1px rgba(60, 64, 67, 0.15);\n",
              "      fill: #174EA6;\n",
              "    }\n",
              "\n",
              "    [theme=dark] .colab-df-convert {\n",
              "      background-color: #3B4455;\n",
              "      fill: #D2E3FC;\n",
              "    }\n",
              "\n",
              "    [theme=dark] .colab-df-convert:hover {\n",
              "      background-color: #434B5C;\n",
              "      box-shadow: 0px 1px 3px 1px rgba(0, 0, 0, 0.15);\n",
              "      filter: drop-shadow(0px 1px 2px rgba(0, 0, 0, 0.3));\n",
              "      fill: #FFFFFF;\n",
              "    }\n",
              "  </style>\n",
              "\n",
              "      <script>\n",
              "        const buttonEl =\n",
              "          document.querySelector('#df-195b0935-57ad-41af-8ba2-be4aa0a99f9b button.colab-df-convert');\n",
              "        buttonEl.style.display =\n",
              "          google.colab.kernel.accessAllowed ? 'block' : 'none';\n",
              "\n",
              "        async function convertToInteractive(key) {\n",
              "          const element = document.querySelector('#df-195b0935-57ad-41af-8ba2-be4aa0a99f9b');\n",
              "          const dataTable =\n",
              "            await google.colab.kernel.invokeFunction('convertToInteractive',\n",
              "                                                     [key], {});\n",
              "          if (!dataTable) return;\n",
              "\n",
              "          const docLinkHtml = 'Like what you see? Visit the ' +\n",
              "            '<a target=\"_blank\" href=https://colab.research.google.com/notebooks/data_table.ipynb>data table notebook</a>'\n",
              "            + ' to learn more about interactive tables.';\n",
              "          element.innerHTML = '';\n",
              "          dataTable['output_type'] = 'display_data';\n",
              "          await google.colab.output.renderOutput(dataTable, element);\n",
              "          const docLink = document.createElement('div');\n",
              "          docLink.innerHTML = docLinkHtml;\n",
              "          element.appendChild(docLink);\n",
              "        }\n",
              "      </script>\n",
              "    </div>\n",
              "  </div>\n",
              "  "
            ]
          },
          "metadata": {},
          "execution_count": 6
        }
      ]
    },
    {
      "cell_type": "markdown",
      "source": [
        "Depois da limpeza dos dados percebemos que:\n",
        "* A média da coluna price diminuiu de 279 dólares para 149\n",
        "* A mediana da coluna price não teve uma mudança considerável, isto nos mostra que os dados que foram limpos realmente eram outliers, e estavam deixando a média fora da realidade.\n",
        "* O mínimo da coluna price que estava em 0 agora está em 10, conseguimos lidar bem com esses outliers também.\n",
        "* Já para a coluna minimum_nights, houve poucas mudanças após a limpeza, isto nos mostra que na cidade de Los Angeles, geralmente os alugueis são para dois dias, ou seja, finais de semana. Ou 30 dias, para a temporada de férias, isto  já era esperado pela grande procura na época de férias.\n"
      ],
      "metadata": {
        "id": "n_JzogrdSQVs"
      }
    },
    {
      "cell_type": "markdown",
      "metadata": {
        "id": "7x4aw1j5wNmn"
      },
      "source": [
        "### **Q4. Qual a média dos preços de aluguel?**"
      ]
    },
    {
      "cell_type": "code",
      "metadata": {
        "id": "ff-8gUahLk-C",
        "colab": {
          "base_uri": "https://localhost:8080/"
        },
        "outputId": "dfd1815d-2c52-427f-bdc6-4024072fc7f3"
      },
      "source": [
        "# Ver a média da coluna \"price\"\n",
        "df_clean.price.mean()"
      ],
      "execution_count": 9,
      "outputs": [
        {
          "output_type": "execute_result",
          "data": {
            "text/plain": [
              "149.40255458273302"
            ]
          },
          "metadata": {},
          "execution_count": 9
        }
      ]
    },
    {
      "cell_type": "markdown",
      "metadata": {
        "id": "IXn2oIo5qx-w"
      },
      "source": [
        "### **Q4. Qual a correlação existente entre as variáveis**"
      ]
    },
    {
      "cell_type": "code",
      "metadata": {
        "id": "x2ayzBajqxyd",
        "colab": {
          "base_uri": "https://localhost:8080/",
          "height": 238
        },
        "outputId": "194c5e5a-bae2-4a6c-d523-4f3455ba503c"
      },
      "source": [
        "# criar uma matriz de correlação\n",
        "corr = df_clean[['price', 'minimum_nights', 'number_of_reviews', 'reviews_per_month',\n",
        "    'calculated_host_listings_count', 'availability_365']].corr()\n",
        "# mostrar a matriz de correlação\n",
        "display(corr)"
      ],
      "execution_count": 10,
      "outputs": [
        {
          "output_type": "display_data",
          "data": {
            "text/plain": [
              "                                   price  minimum_nights  number_of_reviews  \\\n",
              "price                           1.000000       -0.155276          -0.005741   \n",
              "minimum_nights                 -0.155276        1.000000          -0.194415   \n",
              "number_of_reviews              -0.005741       -0.194415           1.000000   \n",
              "reviews_per_month               0.083869       -0.440744           0.578515   \n",
              "calculated_host_listings_count -0.040922        0.211796          -0.116505   \n",
              "availability_365                0.055369        0.013787          -0.032816   \n",
              "\n",
              "                                reviews_per_month  \\\n",
              "price                                    0.083869   \n",
              "minimum_nights                          -0.440744   \n",
              "number_of_reviews                        0.578515   \n",
              "reviews_per_month                        1.000000   \n",
              "calculated_host_listings_count          -0.106955   \n",
              "availability_365                         0.070572   \n",
              "\n",
              "                                calculated_host_listings_count  \\\n",
              "price                                                -0.040922   \n",
              "minimum_nights                                        0.211796   \n",
              "number_of_reviews                                    -0.116505   \n",
              "reviews_per_month                                    -0.106955   \n",
              "calculated_host_listings_count                        1.000000   \n",
              "availability_365                                      0.214254   \n",
              "\n",
              "                                availability_365  \n",
              "price                                   0.055369  \n",
              "minimum_nights                          0.013787  \n",
              "number_of_reviews                      -0.032816  \n",
              "reviews_per_month                       0.070572  \n",
              "calculated_host_listings_count          0.214254  \n",
              "availability_365                        1.000000  "
            ],
            "text/html": [
              "\n",
              "  <div id=\"df-10925cfb-b317-4f11-8586-6809538ac0ef\">\n",
              "    <div class=\"colab-df-container\">\n",
              "      <div>\n",
              "<style scoped>\n",
              "    .dataframe tbody tr th:only-of-type {\n",
              "        vertical-align: middle;\n",
              "    }\n",
              "\n",
              "    .dataframe tbody tr th {\n",
              "        vertical-align: top;\n",
              "    }\n",
              "\n",
              "    .dataframe thead th {\n",
              "        text-align: right;\n",
              "    }\n",
              "</style>\n",
              "<table border=\"1\" class=\"dataframe\">\n",
              "  <thead>\n",
              "    <tr style=\"text-align: right;\">\n",
              "      <th></th>\n",
              "      <th>price</th>\n",
              "      <th>minimum_nights</th>\n",
              "      <th>number_of_reviews</th>\n",
              "      <th>reviews_per_month</th>\n",
              "      <th>calculated_host_listings_count</th>\n",
              "      <th>availability_365</th>\n",
              "    </tr>\n",
              "  </thead>\n",
              "  <tbody>\n",
              "    <tr>\n",
              "      <th>price</th>\n",
              "      <td>1.000000</td>\n",
              "      <td>-0.155276</td>\n",
              "      <td>-0.005741</td>\n",
              "      <td>0.083869</td>\n",
              "      <td>-0.040922</td>\n",
              "      <td>0.055369</td>\n",
              "    </tr>\n",
              "    <tr>\n",
              "      <th>minimum_nights</th>\n",
              "      <td>-0.155276</td>\n",
              "      <td>1.000000</td>\n",
              "      <td>-0.194415</td>\n",
              "      <td>-0.440744</td>\n",
              "      <td>0.211796</td>\n",
              "      <td>0.013787</td>\n",
              "    </tr>\n",
              "    <tr>\n",
              "      <th>number_of_reviews</th>\n",
              "      <td>-0.005741</td>\n",
              "      <td>-0.194415</td>\n",
              "      <td>1.000000</td>\n",
              "      <td>0.578515</td>\n",
              "      <td>-0.116505</td>\n",
              "      <td>-0.032816</td>\n",
              "    </tr>\n",
              "    <tr>\n",
              "      <th>reviews_per_month</th>\n",
              "      <td>0.083869</td>\n",
              "      <td>-0.440744</td>\n",
              "      <td>0.578515</td>\n",
              "      <td>1.000000</td>\n",
              "      <td>-0.106955</td>\n",
              "      <td>0.070572</td>\n",
              "    </tr>\n",
              "    <tr>\n",
              "      <th>calculated_host_listings_count</th>\n",
              "      <td>-0.040922</td>\n",
              "      <td>0.211796</td>\n",
              "      <td>-0.116505</td>\n",
              "      <td>-0.106955</td>\n",
              "      <td>1.000000</td>\n",
              "      <td>0.214254</td>\n",
              "    </tr>\n",
              "    <tr>\n",
              "      <th>availability_365</th>\n",
              "      <td>0.055369</td>\n",
              "      <td>0.013787</td>\n",
              "      <td>-0.032816</td>\n",
              "      <td>0.070572</td>\n",
              "      <td>0.214254</td>\n",
              "      <td>1.000000</td>\n",
              "    </tr>\n",
              "  </tbody>\n",
              "</table>\n",
              "</div>\n",
              "      <button class=\"colab-df-convert\" onclick=\"convertToInteractive('df-10925cfb-b317-4f11-8586-6809538ac0ef')\"\n",
              "              title=\"Convert this dataframe to an interactive table.\"\n",
              "              style=\"display:none;\">\n",
              "        \n",
              "  <svg xmlns=\"http://www.w3.org/2000/svg\" height=\"24px\"viewBox=\"0 0 24 24\"\n",
              "       width=\"24px\">\n",
              "    <path d=\"M0 0h24v24H0V0z\" fill=\"none\"/>\n",
              "    <path d=\"M18.56 5.44l.94 2.06.94-2.06 2.06-.94-2.06-.94-.94-2.06-.94 2.06-2.06.94zm-11 1L8.5 8.5l.94-2.06 2.06-.94-2.06-.94L8.5 2.5l-.94 2.06-2.06.94zm10 10l.94 2.06.94-2.06 2.06-.94-2.06-.94-.94-2.06-.94 2.06-2.06.94z\"/><path d=\"M17.41 7.96l-1.37-1.37c-.4-.4-.92-.59-1.43-.59-.52 0-1.04.2-1.43.59L10.3 9.45l-7.72 7.72c-.78.78-.78 2.05 0 2.83L4 21.41c.39.39.9.59 1.41.59.51 0 1.02-.2 1.41-.59l7.78-7.78 2.81-2.81c.8-.78.8-2.07 0-2.86zM5.41 20L4 18.59l7.72-7.72 1.47 1.35L5.41 20z\"/>\n",
              "  </svg>\n",
              "      </button>\n",
              "      \n",
              "  <style>\n",
              "    .colab-df-container {\n",
              "      display:flex;\n",
              "      flex-wrap:wrap;\n",
              "      gap: 12px;\n",
              "    }\n",
              "\n",
              "    .colab-df-convert {\n",
              "      background-color: #E8F0FE;\n",
              "      border: none;\n",
              "      border-radius: 50%;\n",
              "      cursor: pointer;\n",
              "      display: none;\n",
              "      fill: #1967D2;\n",
              "      height: 32px;\n",
              "      padding: 0 0 0 0;\n",
              "      width: 32px;\n",
              "    }\n",
              "\n",
              "    .colab-df-convert:hover {\n",
              "      background-color: #E2EBFA;\n",
              "      box-shadow: 0px 1px 2px rgba(60, 64, 67, 0.3), 0px 1px 3px 1px rgba(60, 64, 67, 0.15);\n",
              "      fill: #174EA6;\n",
              "    }\n",
              "\n",
              "    [theme=dark] .colab-df-convert {\n",
              "      background-color: #3B4455;\n",
              "      fill: #D2E3FC;\n",
              "    }\n",
              "\n",
              "    [theme=dark] .colab-df-convert:hover {\n",
              "      background-color: #434B5C;\n",
              "      box-shadow: 0px 1px 3px 1px rgba(0, 0, 0, 0.15);\n",
              "      filter: drop-shadow(0px 1px 2px rgba(0, 0, 0, 0.3));\n",
              "      fill: #FFFFFF;\n",
              "    }\n",
              "  </style>\n",
              "\n",
              "      <script>\n",
              "        const buttonEl =\n",
              "          document.querySelector('#df-10925cfb-b317-4f11-8586-6809538ac0ef button.colab-df-convert');\n",
              "        buttonEl.style.display =\n",
              "          google.colab.kernel.accessAllowed ? 'block' : 'none';\n",
              "\n",
              "        async function convertToInteractive(key) {\n",
              "          const element = document.querySelector('#df-10925cfb-b317-4f11-8586-6809538ac0ef');\n",
              "          const dataTable =\n",
              "            await google.colab.kernel.invokeFunction('convertToInteractive',\n",
              "                                                     [key], {});\n",
              "          if (!dataTable) return;\n",
              "\n",
              "          const docLinkHtml = 'Like what you see? Visit the ' +\n",
              "            '<a target=\"_blank\" href=https://colab.research.google.com/notebooks/data_table.ipynb>data table notebook</a>'\n",
              "            + ' to learn more about interactive tables.';\n",
              "          element.innerHTML = '';\n",
              "          dataTable['output_type'] = 'display_data';\n",
              "          await google.colab.output.renderOutput(dataTable, element);\n",
              "          const docLink = document.createElement('div');\n",
              "          docLink.innerHTML = docLinkHtml;\n",
              "          element.appendChild(docLink);\n",
              "        }\n",
              "      </script>\n",
              "    </div>\n",
              "  </div>\n",
              "  "
            ]
          },
          "metadata": {}
        }
      ]
    },
    {
      "cell_type": "code",
      "metadata": {
        "id": "91UujDr6ueqE",
        "colab": {
          "base_uri": "https://localhost:8080/",
          "height": 411
        },
        "outputId": "f57a756e-9a1c-49e5-e2cc-6b3ff0fe2065"
      },
      "source": [
        "# plotar um heatmap a partir das correlações\n",
        "sns.heatmap(corr, cmap=\"RdBu\", fmt=\".2f\", square= True, linecolor=\"white\", annot= True);"
      ],
      "execution_count": 11,
      "outputs": [
        {
          "output_type": "display_data",
          "data": {
            "text/plain": [
              "<Figure size 432x288 with 2 Axes>"
            ],
            "image/png": "[encoded data removed]"
          },
          "metadata": {
            "needs_background": "light"
          }
        }
      ]
    },
    {
      "cell_type": "markdown",
      "metadata": {
        "id": "7b6RMWpuHKN-"
      },
      "source": [
        "### **Q5. Qual o tipo de imóvel mais alugado no Airbnb?**"
      ]
    },
    {
      "cell_type": "markdown",
      "source": [
        "O tipo de imóvel mais alugado na cidade de Los Angeles são Casas e apartamentos, seguido por quartos individuais."
      ],
      "metadata": {
        "id": "4vRrRIOMVmT7"
      }
    },
    {
      "cell_type": "code",
      "metadata": {
        "id": "ueLPNWvPHgfB",
        "colab": {
          "base_uri": "https://localhost:8080/"
        },
        "outputId": "bc30e04a-bc3f-4e72-f45b-4fcef1a4b816"
      },
      "source": [
        "# mostrar a quantidade de cada tipo de imóvel disponível\n",
        "df_clean.room_type.value_counts()\n"
      ],
      "execution_count": 12,
      "outputs": [
        {
          "output_type": "execute_result",
          "data": {
            "text/plain": [
              "Entire home/apt    24410\n",
              "Private room       10863\n",
              "Shared room          757\n",
              "Hotel room            62\n",
              "Name: room_type, dtype: int64"
            ]
          },
          "metadata": {},
          "execution_count": 12
        }
      ]
    },
    {
      "cell_type": "code",
      "metadata": {
        "id": "EvwoO-XAHhIm",
        "colab": {
          "base_uri": "https://localhost:8080/"
        },
        "outputId": "c55a371b-737c-4e10-bcec-803a3ce24558"
      },
      "source": [
        "# mostrar a porcentagem de cada tipo de imóvel disponível\n",
        "df_clean.room_type.value_counts() / df_clean.shape[0]*100\n"
      ],
      "execution_count": 13,
      "outputs": [
        {
          "output_type": "execute_result",
          "data": {
            "text/plain": [
              "Entire home/apt    67.632716\n",
              "Private room       30.098083\n",
              "Shared room         2.097418\n",
              "Hotel room          0.171783\n",
              "Name: room_type, dtype: float64"
            ]
          },
          "metadata": {},
          "execution_count": 13
        }
      ]
    },
    {
      "cell_type": "markdown",
      "metadata": {
        "id": "MFa5NbnLJMcd"
      },
      "source": [
        "### **Q6. Qual a localidade mais cara do dataset?**\n",
        "\n"
      ]
    },
    {
      "cell_type": "markdown",
      "source": [
        "Los Angeles é uma cidade grande e muito procurada por todos, abaixo veremos algumas analises interessantes sobre a disposição de imóveis na cidade."
      ],
      "metadata": {
        "id": "BGz6gvtTWeEm"
      }
    },
    {
      "cell_type": "code",
      "metadata": {
        "id": "MD_xa143JZpi",
        "colab": {
          "base_uri": "https://localhost:8080/"
        },
        "outputId": "ade2bc4e-abde-4a02-aff5-9d01f4089b96"
      },
      "source": [
        "# Ver a media de preço por noite dos bairros\n",
        "df_clean.groupby([\"neighbourhood\"]).price.mean().sort_values(ascending=False)[:10]\n"
      ],
      "execution_count": 14,
      "outputs": [
        {
          "output_type": "execute_result",
          "data": {
            "text/plain": [
              "neighbourhood\n",
              "Avalon                                   296.070312\n",
              "Malibu                                   291.333333\n",
              "Rolling Hills Estates                    244.125000\n",
              "Unincorporated Santa Monica Mountains    242.876404\n",
              "Elizabeth Lake                           230.000000\n",
              "North Whittier                           227.250000\n",
              "Topanga                                  224.735974\n",
              "Sepulveda Basin                          224.000000\n",
              "Hidden Hills                             223.500000\n",
              "Universal City                           221.333333\n",
              "Name: price, dtype: float64"
            ]
          },
          "metadata": {},
          "execution_count": 14
        }
      ]
    },
    {
      "cell_type": "markdown",
      "source": [
        "Podemos ver que Avalon (Hollywood) é o bairro mais caro de Los Angeles, seguido por Malibu, é algo esperado por ter várias casas de praia luxuosas. Os dados acima nos mostram algo bem próximo da realidade, principalmente para quem for alugar com a intenção de férias. Porém existem algumas características nos bairros mais centrais, o número de imóveis para alocação é maior e também existem muitos quartos usados por poucos dias ou até uma única noite. Veremos abaixo como exemplo o caso de Beverly Hills"
      ],
      "metadata": {
        "id": "v-uXmNLVWgr-"
      }
    },
    {
      "cell_type": "code",
      "source": [
        "# Ver a média de noites minimas por bairro\n",
        "df_clean.groupby([\"neighbourhood\"]).minimum_nights.mean().sort_values(ascending=False)[:10]"
      ],
      "metadata": {
        "colab": {
          "base_uri": "https://localhost:8080/"
        },
        "id": "GuBAkLaeWEIG",
        "outputId": "0a028d2b-5722-4d68-a220-839fb7be56a7"
      },
      "execution_count": 16,
      "outputs": [
        {
          "output_type": "execute_result",
          "data": {
            "text/plain": [
              "neighbourhood\n",
              "Adams-Normandie           32.000000\n",
              "University Park           31.813559\n",
              "South Park                30.000000\n",
              "Green Meadows             30.000000\n",
              "Historic South-Central    29.747899\n",
              "Koreatown                 29.099237\n",
              "Beverlywood               28.647059\n",
              "Sherman Oaks              28.280781\n",
              "West Los Angeles          27.789474\n",
              "Exposition Park           27.715686\n",
              "Name: minimum_nights, dtype: float64"
            ]
          },
          "metadata": {},
          "execution_count": 16
        }
      ]
    },
    {
      "cell_type": "markdown",
      "source": [
        "Aqui vemos a média de noites mínimas por bairro, logo percebemos que o University Park está com uma média alta, superior a 30 dias. Isto é natural, pois é usado por estudantes.\n",
        "Também percebemos que a media de noites mínimas é alta em vários bairros, isto porque Los Angeles é muito usada para a temporada de férias.\n",
        "\n",
        "\n",
        "**Beverly Hills** é um bairro nobre de Los Angeles, porém por ser um bairro mais central tem uma média de preços mais baixa por conta de boa parte dos imóveis anunciados serem quartos para poucos dias."
      ],
      "metadata": {
        "id": "YUdCrH6qXCNR"
      }
    },
    {
      "cell_type": "code",
      "source": [
        "# Informações sobre Beverly Hills\n",
        "\n",
        "df_clean[['price', 'minimum_nights']].loc[df[\"neighbourhood\"] == \"Beverly Hills\"].describe().round(1)"
      ],
      "metadata": {
        "colab": {
          "base_uri": "https://localhost:8080/",
          "height": 300
        },
        "id": "DUoZTvd-XewP",
        "outputId": "97943572-a53f-42b0-837f-9a684f0312ba"
      },
      "execution_count": 20,
      "outputs": [
        {
          "output_type": "execute_result",
          "data": {
            "text/plain": [
              "       price  minimum_nights\n",
              "count  985.0           985.0\n",
              "mean   173.0             7.5\n",
              "std     80.0            11.4\n",
              "min     16.0             1.0\n",
              "25%    120.0             1.0\n",
              "50%    150.0             1.0\n",
              "75%    209.0             6.0\n",
              "max    456.0            60.0"
            ],
            "text/html": [
              "\n",
              "  <div id=\"df-2dc5c177-6882-4ef8-adb9-d97598bc1ff7\">\n",
              "    <div class=\"colab-df-container\">\n",
              "      <div>\n",
              "<style scoped>\n",
              "    .dataframe tbody tr th:only-of-type {\n",
              "        vertical-align: middle;\n",
              "    }\n",
              "\n",
              "    .dataframe tbody tr th {\n",
              "        vertical-align: top;\n",
              "    }\n",
              "\n",
              "    .dataframe thead th {\n",
              "        text-align: right;\n",
              "    }\n",
              "</style>\n",
              "<table border=\"1\" class=\"dataframe\">\n",
              "  <thead>\n",
              "    <tr style=\"text-align: right;\">\n",
              "      <th></th>\n",
              "      <th>price</th>\n",
              "      <th>minimum_nights</th>\n",
              "    </tr>\n",
              "  </thead>\n",
              "  <tbody>\n",
              "    <tr>\n",
              "      <th>count</th>\n",
              "      <td>985.0</td>\n",
              "      <td>985.0</td>\n",
              "    </tr>\n",
              "    <tr>\n",
              "      <th>mean</th>\n",
              "      <td>173.0</td>\n",
              "      <td>7.5</td>\n",
              "    </tr>\n",
              "    <tr>\n",
              "      <th>std</th>\n",
              "      <td>80.0</td>\n",
              "      <td>11.4</td>\n",
              "    </tr>\n",
              "    <tr>\n",
              "      <th>min</th>\n",
              "      <td>16.0</td>\n",
              "      <td>1.0</td>\n",
              "    </tr>\n",
              "    <tr>\n",
              "      <th>25%</th>\n",
              "      <td>120.0</td>\n",
              "      <td>1.0</td>\n",
              "    </tr>\n",
              "    <tr>\n",
              "      <th>50%</th>\n",
              "      <td>150.0</td>\n",
              "      <td>1.0</td>\n",
              "    </tr>\n",
              "    <tr>\n",
              "      <th>75%</th>\n",
              "      <td>209.0</td>\n",
              "      <td>6.0</td>\n",
              "    </tr>\n",
              "    <tr>\n",
              "      <th>max</th>\n",
              "      <td>456.0</td>\n",
              "      <td>60.0</td>\n",
              "    </tr>\n",
              "  </tbody>\n",
              "</table>\n",
              "</div>\n",
              "      <button class=\"colab-df-convert\" onclick=\"convertToInteractive('df-2dc5c177-6882-4ef8-adb9-d97598bc1ff7')\"\n",
              "              title=\"Convert this dataframe to an interactive table.\"\n",
              "              style=\"display:none;\">\n",
              "        \n",
              "  <svg xmlns=\"http://www.w3.org/2000/svg\" height=\"24px\"viewBox=\"0 0 24 24\"\n",
              "       width=\"24px\">\n",
              "    <path d=\"M0 0h24v24H0V0z\" fill=\"none\"/>\n",
              "    <path d=\"M18.56 5.44l.94 2.06.94-2.06 2.06-.94-2.06-.94-.94-2.06-.94 2.06-2.06.94zm-11 1L8.5 8.5l.94-2.06 2.06-.94-2.06-.94L8.5 2.5l-.94 2.06-2.06.94zm10 10l.94 2.06.94-2.06 2.06-.94-2.06-.94-.94-2.06-.94 2.06-2.06.94z\"/><path d=\"M17.41 7.96l-1.37-1.37c-.4-.4-.92-.59-1.43-.59-.52 0-1.04.2-1.43.59L10.3 9.45l-7.72 7.72c-.78.78-.78 2.05 0 2.83L4 21.41c.39.39.9.59 1.41.59.51 0 1.02-.2 1.41-.59l7.78-7.78 2.81-2.81c.8-.78.8-2.07 0-2.86zM5.41 20L4 18.59l7.72-7.72 1.47 1.35L5.41 20z\"/>\n",
              "  </svg>\n",
              "      </button>\n",
              "      \n",
              "  <style>\n",
              "    .colab-df-container {\n",
              "      display:flex;\n",
              "      flex-wrap:wrap;\n",
              "      gap: 12px;\n",
              "    }\n",
              "\n",
              "    .colab-df-convert {\n",
              "      background-color: #E8F0FE;\n",
              "      border: none;\n",
              "      border-radius: 50%;\n",
              "      cursor: pointer;\n",
              "      display: none;\n",
              "      fill: #1967D2;\n",
              "      height: 32px;\n",
              "      padding: 0 0 0 0;\n",
              "      width: 32px;\n",
              "    }\n",
              "\n",
              "    .colab-df-convert:hover {\n",
              "      background-color: #E2EBFA;\n",
              "      box-shadow: 0px 1px 2px rgba(60, 64, 67, 0.3), 0px 1px 3px 1px rgba(60, 64, 67, 0.15);\n",
              "      fill: #174EA6;\n",
              "    }\n",
              "\n",
              "    [theme=dark] .colab-df-convert {\n",
              "      background-color: #3B4455;\n",
              "      fill: #D2E3FC;\n",
              "    }\n",
              "\n",
              "    [theme=dark] .colab-df-convert:hover {\n",
              "      background-color: #434B5C;\n",
              "      box-shadow: 0px 1px 3px 1px rgba(0, 0, 0, 0.15);\n",
              "      filter: drop-shadow(0px 1px 2px rgba(0, 0, 0, 0.3));\n",
              "      fill: #FFFFFF;\n",
              "    }\n",
              "  </style>\n",
              "\n",
              "      <script>\n",
              "        const buttonEl =\n",
              "          document.querySelector('#df-2dc5c177-6882-4ef8-adb9-d97598bc1ff7 button.colab-df-convert');\n",
              "        buttonEl.style.display =\n",
              "          google.colab.kernel.accessAllowed ? 'block' : 'none';\n",
              "\n",
              "        async function convertToInteractive(key) {\n",
              "          const element = document.querySelector('#df-2dc5c177-6882-4ef8-adb9-d97598bc1ff7');\n",
              "          const dataTable =\n",
              "            await google.colab.kernel.invokeFunction('convertToInteractive',\n",
              "                                                     [key], {});\n",
              "          if (!dataTable) return;\n",
              "\n",
              "          const docLinkHtml = 'Like what you see? Visit the ' +\n",
              "            '<a target=\"_blank\" href=https://colab.research.google.com/notebooks/data_table.ipynb>data table notebook</a>'\n",
              "            + ' to learn more about interactive tables.';\n",
              "          element.innerHTML = '';\n",
              "          dataTable['output_type'] = 'display_data';\n",
              "          await google.colab.output.renderOutput(dataTable, element);\n",
              "          const docLink = document.createElement('div');\n",
              "          docLink.innerHTML = docLinkHtml;\n",
              "          element.appendChild(docLink);\n",
              "        }\n",
              "      </script>\n",
              "    </div>\n",
              "  </div>\n",
              "  "
            ]
          },
          "metadata": {},
          "execution_count": 20
        }
      ]
    },
    {
      "cell_type": "markdown",
      "source": [
        "É possível perceber algumas coisas:\n",
        "\n",
        "* A média de preço é de 173 dólares.\n",
        "* A mediana de noites mínimas é de 1 dia.\n",
        "* A média de noite de mínimas é de 7 dias\n",
        "\n",
        "\n",
        "Isso mostra que Beverly Hills é um bairro mais diversificado na questão de alugueis, contendo imóveis tanto para ferias, finais de semanas e pessoas que precisam de poucos dias para um projeto profissional."
      ],
      "metadata": {
        "id": "LzrMTm4uYSCj"
      }
    },
    {
      "cell_type": "code",
      "source": [
        "# ver quantidade de imóveis em Beverly Hills\n",
        "print(df_clean[df_clean.neighbourhood == \"Beverly Hills\"].shape)\n",
        "\n",
        "# ver as 5 ultimas entradas\n",
        "df_clean[df_clean.neighbourhood == \"Beverly Hills\"].tail(3)"
      ],
      "metadata": {
        "colab": {
          "base_uri": "https://localhost:8080/",
          "height": 485
        },
        "id": "mdIUSgt_YH2z",
        "outputId": "12ecca72-b9c4-43df-f540-c9a869968f53"
      },
      "execution_count": 24,
      "outputs": [
        {
          "output_type": "stream",
          "name": "stdout",
          "text": [
            "(985, 18)\n"
          ]
        },
        {
          "output_type": "execute_result",
          "data": {
            "text/plain": [
              "                       id                             name    host_id  \\\n",
              "40364  774030469064371430  LA’s Bunk Bed Mixed Shared Room  488655599   \n",
              "40366  774033386610297086  LA’s Bunk Bed Mixed Shared Room  488655599   \n",
              "40368  774036442170180417  LA’s Bunk Bed Mixed Shared Room  488655599   \n",
              "\n",
              "      host_name neighbourhood_group  neighbourhood   latitude   longitude  \\\n",
              "40364     Jorge        Other Cities  Beverly Hills  34.058282 -118.384197   \n",
              "40366     Jorge        Other Cities  Beverly Hills  34.060044 -118.386220   \n",
              "40368     Jorge        Other Cities  Beverly Hills  34.058189 -118.384517   \n",
              "\n",
              "         room_type  price  minimum_nights  number_of_reviews last_review  \\\n",
              "40364  Shared room     16               1                  0         NaN   \n",
              "40366  Shared room     16               1                  0         NaN   \n",
              "40368  Shared room     16               1                  0         NaN   \n",
              "\n",
              "       reviews_per_month  calculated_host_listings_count  availability_365  \\\n",
              "40364                NaN                              16               364   \n",
              "40366                NaN                              16               361   \n",
              "40368                NaN                              16               365   \n",
              "\n",
              "       number_of_reviews_ltm license  \n",
              "40364                      0     NaN  \n",
              "40366                      0     NaN  \n",
              "40368                      0     NaN  "
            ],
            "text/html": [
              "\n",
              "  <div id=\"df-0ef759c3-7192-4b44-aa54-af379aee07df\">\n",
              "    <div class=\"colab-df-container\">\n",
              "      <div>\n",
              "<style scoped>\n",
              "    .dataframe tbody tr th:only-of-type {\n",
              "        vertical-align: middle;\n",
              "    }\n",
              "\n",
              "    .dataframe tbody tr th {\n",
              "        vertical-align: top;\n",
              "    }\n",
              "\n",
              "    .dataframe thead th {\n",
              "        text-align: right;\n",
              "    }\n",
              "</style>\n",
              "<table border=\"1\" class=\"dataframe\">\n",
              "  <thead>\n",
              "    <tr style=\"text-align: right;\">\n",
              "      <th></th>\n",
              "      <th>id</th>\n",
              "      <th>name</th>\n",
              "      <th>host_id</th>\n",
              "      <th>host_name</th>\n",
              "      <th>neighbourhood_group</th>\n",
              "      <th>neighbourhood</th>\n",
              "      <th>latitude</th>\n",
              "      <th>longitude</th>\n",
              "      <th>room_type</th>\n",
              "      <th>price</th>\n",
              "      <th>minimum_nights</th>\n",
              "      <th>number_of_reviews</th>\n",
              "      <th>last_review</th>\n",
              "      <th>reviews_per_month</th>\n",
              "      <th>calculated_host_listings_count</th>\n",
              "      <th>availability_365</th>\n",
              "      <th>number_of_reviews_ltm</th>\n",
              "      <th>license</th>\n",
              "    </tr>\n",
              "  </thead>\n",
              "  <tbody>\n",
              "    <tr>\n",
              "      <th>40364</th>\n",
              "      <td>774030469064371430</td>\n",
              "      <td>LA’s Bunk Bed Mixed Shared Room</td>\n",
              "      <td>488655599</td>\n",
              "      <td>Jorge</td>\n",
              "      <td>Other Cities</td>\n",
              "      <td>Beverly Hills</td>\n",
              "      <td>34.058282</td>\n",
              "      <td>-118.384197</td>\n",
              "      <td>Shared room</td>\n",
              "      <td>16</td>\n",
              "      <td>1</td>\n",
              "      <td>0</td>\n",
              "      <td>NaN</td>\n",
              "      <td>NaN</td>\n",
              "      <td>16</td>\n",
              "      <td>364</td>\n",
              "      <td>0</td>\n",
              "      <td>NaN</td>\n",
              "    </tr>\n",
              "    <tr>\n",
              "      <th>40366</th>\n",
              "      <td>774033386610297086</td>\n",
              "      <td>LA’s Bunk Bed Mixed Shared Room</td>\n",
              "      <td>488655599</td>\n",
              "      <td>Jorge</td>\n",
              "      <td>Other Cities</td>\n",
              "      <td>Beverly Hills</td>\n",
              "      <td>34.060044</td>\n",
              "      <td>-118.386220</td>\n",
              "      <td>Shared room</td>\n",
              "      <td>16</td>\n",
              "      <td>1</td>\n",
              "      <td>0</td>\n",
              "      <td>NaN</td>\n",
              "      <td>NaN</td>\n",
              "      <td>16</td>\n",
              "      <td>361</td>\n",
              "      <td>0</td>\n",
              "      <td>NaN</td>\n",
              "    </tr>\n",
              "    <tr>\n",
              "      <th>40368</th>\n",
              "      <td>774036442170180417</td>\n",
              "      <td>LA’s Bunk Bed Mixed Shared Room</td>\n",
              "      <td>488655599</td>\n",
              "      <td>Jorge</td>\n",
              "      <td>Other Cities</td>\n",
              "      <td>Beverly Hills</td>\n",
              "      <td>34.058189</td>\n",
              "      <td>-118.384517</td>\n",
              "      <td>Shared room</td>\n",
              "      <td>16</td>\n",
              "      <td>1</td>\n",
              "      <td>0</td>\n",
              "      <td>NaN</td>\n",
              "      <td>NaN</td>\n",
              "      <td>16</td>\n",
              "      <td>365</td>\n",
              "      <td>0</td>\n",
              "      <td>NaN</td>\n",
              "    </tr>\n",
              "  </tbody>\n",
              "</table>\n",
              "</div>\n",
              "      <button class=\"colab-df-convert\" onclick=\"convertToInteractive('df-0ef759c3-7192-4b44-aa54-af379aee07df')\"\n",
              "              title=\"Convert this dataframe to an interactive table.\"\n",
              "              style=\"display:none;\">\n",
              "        \n",
              "  <svg xmlns=\"http://www.w3.org/2000/svg\" height=\"24px\"viewBox=\"0 0 24 24\"\n",
              "       width=\"24px\">\n",
              "    <path d=\"M0 0h24v24H0V0z\" fill=\"none\"/>\n",
              "    <path d=\"M18.56 5.44l.94 2.06.94-2.06 2.06-.94-2.06-.94-.94-2.06-.94 2.06-2.06.94zm-11 1L8.5 8.5l.94-2.06 2.06-.94-2.06-.94L8.5 2.5l-.94 2.06-2.06.94zm10 10l.94 2.06.94-2.06 2.06-.94-2.06-.94-.94-2.06-.94 2.06-2.06.94z\"/><path d=\"M17.41 7.96l-1.37-1.37c-.4-.4-.92-.59-1.43-.59-.52 0-1.04.2-1.43.59L10.3 9.45l-7.72 7.72c-.78.78-.78 2.05 0 2.83L4 21.41c.39.39.9.59 1.41.59.51 0 1.02-.2 1.41-.59l7.78-7.78 2.81-2.81c.8-.78.8-2.07 0-2.86zM5.41 20L4 18.59l7.72-7.72 1.47 1.35L5.41 20z\"/>\n",
              "  </svg>\n",
              "      </button>\n",
              "      \n",
              "  <style>\n",
              "    .colab-df-container {\n",
              "      display:flex;\n",
              "      flex-wrap:wrap;\n",
              "      gap: 12px;\n",
              "    }\n",
              "\n",
              "    .colab-df-convert {\n",
              "      background-color: #E8F0FE;\n",
              "      border: none;\n",
              "      border-radius: 50%;\n",
              "      cursor: pointer;\n",
              "      display: none;\n",
              "      fill: #1967D2;\n",
              "      height: 32px;\n",
              "      padding: 0 0 0 0;\n",
              "      width: 32px;\n",
              "    }\n",
              "\n",
              "    .colab-df-convert:hover {\n",
              "      background-color: #E2EBFA;\n",
              "      box-shadow: 0px 1px 2px rgba(60, 64, 67, 0.3), 0px 1px 3px 1px rgba(60, 64, 67, 0.15);\n",
              "      fill: #174EA6;\n",
              "    }\n",
              "\n",
              "    [theme=dark] .colab-df-convert {\n",
              "      background-color: #3B4455;\n",
              "      fill: #D2E3FC;\n",
              "    }\n",
              "\n",
              "    [theme=dark] .colab-df-convert:hover {\n",
              "      background-color: #434B5C;\n",
              "      box-shadow: 0px 1px 3px 1px rgba(0, 0, 0, 0.15);\n",
              "      filter: drop-shadow(0px 1px 2px rgba(0, 0, 0, 0.3));\n",
              "      fill: #FFFFFF;\n",
              "    }\n",
              "  </style>\n",
              "\n",
              "      <script>\n",
              "        const buttonEl =\n",
              "          document.querySelector('#df-0ef759c3-7192-4b44-aa54-af379aee07df button.colab-df-convert');\n",
              "        buttonEl.style.display =\n",
              "          google.colab.kernel.accessAllowed ? 'block' : 'none';\n",
              "\n",
              "        async function convertToInteractive(key) {\n",
              "          const element = document.querySelector('#df-0ef759c3-7192-4b44-aa54-af379aee07df');\n",
              "          const dataTable =\n",
              "            await google.colab.kernel.invokeFunction('convertToInteractive',\n",
              "                                                     [key], {});\n",
              "          if (!dataTable) return;\n",
              "\n",
              "          const docLinkHtml = 'Like what you see? Visit the ' +\n",
              "            '<a target=\"_blank\" href=https://colab.research.google.com/notebooks/data_table.ipynb>data table notebook</a>'\n",
              "            + ' to learn more about interactive tables.';\n",
              "          element.innerHTML = '';\n",
              "          dataTable['output_type'] = 'display_data';\n",
              "          await google.colab.output.renderOutput(dataTable, element);\n",
              "          const docLink = document.createElement('div');\n",
              "          docLink.innerHTML = docLinkHtml;\n",
              "          element.appendChild(docLink);\n",
              "        }\n",
              "      </script>\n",
              "    </div>\n",
              "  </div>\n",
              "  "
            ]
          },
          "metadata": {},
          "execution_count": 24
        }
      ]
    },
    {
      "cell_type": "markdown",
      "source": [
        "Beverly Hills tem 985 imóveis para alugar, podemos ver acima alguns shared rooms por 16 dólares a diária, este é o motivo do bairro não aparecer como um dos mais caros de Los Angeles."
      ],
      "metadata": {
        "id": "QAwlApGJYuEi"
      }
    },
    {
      "cell_type": "code",
      "metadata": {
        "id": "UxVJqJ_3W59I",
        "colab": {
          "base_uri": "https://localhost:8080/",
          "height": 469
        },
        "outputId": "4e1e2d54-67e3-4e04-81e0-7da4d0f9ed64"
      },
      "source": [
        "# plotar os imóveis pela latitude-longitude\n",
        "df_clean.plot(kind=\"scatter\", x=\"longitude\", y=\"latitude\", alpha=0.4, c=df_clean[\"price\"],s=8, \n",
        "              cmap=plt.get_cmap(\"jet\"),figsize=(12,8));\n"
      ],
      "execution_count": 25,
      "outputs": [
        {
          "output_type": "display_data",
          "data": {
            "text/plain": [
              "<Figure size 864x576 with 2 Axes>"
            ],
            "image/png": "[encoded data removed]"
          },
          "metadata": {
            "needs_background": "light"
          }
        }
      ]
    },
    {
      "cell_type": "markdown",
      "source": [
        "Vemos pelo gráfico a disposição dos imóveis, pode-se dizer que Los Angeles em sua área urbana e nas praias nos dá excelentes opções. Sendo possível encontrar o imóvel ideal para todo tipo de ocasião."
      ],
      "metadata": {
        "id": "WlN-8WS3Y58t"
      }
    },
    {
      "cell_type": "markdown",
      "metadata": {
        "id": "vTneAMRUYvr1"
      },
      "source": [
        "### **Q7. Qual é a média do mínimo de noites para aluguel (minimum_nights)?**"
      ]
    },
    {
      "cell_type": "code",
      "metadata": {
        "id": "_VzNhrEgY82N",
        "colab": {
          "base_uri": "https://localhost:8080/"
        },
        "outputId": "43fe761a-9779-4da8-a8f1-e5b31388a70d"
      },
      "source": [
        "# ver a média da coluna `minimum_nights``\n",
        "\n",
        "df_clean.minimum_nights.mean()"
      ],
      "execution_count": 26,
      "outputs": [
        {
          "output_type": "execute_result",
          "data": {
            "text/plain": [
              "16.888119250803502"
            ]
          },
          "metadata": {},
          "execution_count": 26
        }
      ]
    },
    {
      "cell_type": "markdown",
      "source": [
        "Aqui vemos a média para noites mínimas, que é pouco mais que 16 noites. Isto explica a diversidade de Los Angeles, pois os regimes de aluguel mais usados são de 30 dias e 2 dias, ou seja, o final de semana ou o período inteiro de férias."
      ],
      "metadata": {
        "id": "y-FHuUZcZDkI"
      }
    },
    {
      "cell_type": "markdown",
      "metadata": {
        "id": "GkvAg623RjoR"
      },
      "source": [
        "## Conclusões\n"
      ]
    },
    {
      "cell_type": "markdown",
      "metadata": {
        "id": "rbZ3Hsy9Ypw8"
      },
      "source": [
        "Após a análise dos dados do airbnb para a cidade de Los Angeles chegamos a algumas conclusões:\n",
        "\n",
        "*\tLos Angeles tem uma rica diversidade, podendo atender vários tipos de público, desde os que procuram casas perto da praia, tanto para quem quer uma calmaria maior nas montanhas.\n",
        "*\tAs residências de Los Angeles têm uma variedade de preço muito boa, podendo ser encontrados alugueis para todos. Desde casas luxuosas à beira mar até quartos por 16 dólares a diária para quem precisa passar apenas uma noite na cidade\n",
        "*\tUm dos motivos para ter muitos alugueis por um período acima de 30 dias é que existe uma regulamentação mais rígida para alugueis de curtos períodos de tempo, esta regulamentação é usada para proteger a moradia dos moradores da cidade. Por isso vemos um grande número de alugueis para 2 dias, depois disso o número só volta a aumentar em 30 dias, por conta dessa regulamentação a cidade acabou se adaptando.\n",
        "* Por fim, Los Angeles oferece aos seus visitantes o que eles procuram. Independente do evento que o faça ir até a cidade, ela terá um quarto, casa ou apartamento perfeito para a ocasião."
      ]
    },
    {
      "cell_type": "code",
      "source": [],
      "metadata": {
        "id": "HpDoxRCfZZmK"
      },
      "execution_count": null,
      "outputs": []
    }
  ]
}